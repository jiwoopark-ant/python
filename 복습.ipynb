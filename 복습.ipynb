{
 "cells": [
  {
   "cell_type": "code",
   "execution_count": 2,
   "id": "b17c7434-242a-46db-85ff-6750282a9911",
   "metadata": {},
   "outputs": [
    {
     "name": "stdout",
     "output_type": "stream",
     "text": [
      "[1, 3, 5, 7, 9, 11, 13, 15, 17, 19, 21, 23, 25, 27, 29]\n"
     ]
    }
   ],
   "source": [
    "#홀수 출력 리스트에 담기 \n",
    "\n",
    "a=[]\n",
    "\n",
    "for i in range(30):\n",
    "    if i % 2==1 :\n",
    "        a.append(i)\n",
    "print(a)        "
   ]
  },
  {
   "cell_type": "code",
   "execution_count": 3,
   "id": "bd00bd1b-7cc8-4c21-920f-2781c803de02",
   "metadata": {},
   "outputs": [],
   "source": [
    "info= {\n",
    "    'name':'jiwoo',\n",
    "    'location': 'seoul',\n",
    "    'phone':'010-5120-3167'}"
   ]
  },
  {
   "cell_type": "code",
   "execution_count": 6,
   "id": "e59f7c20-c9b8-4040-a5ae-8014cf012108",
   "metadata": {},
   "outputs": [
    {
     "name": "stdout",
     "output_type": "stream",
     "text": [
      "name\n",
      "location\n",
      "phone\n"
     ]
    }
   ],
   "source": [
    "for i in info.keys():\n",
    "    print(i)"
   ]
  },
  {
   "cell_type": "code",
   "execution_count": 7,
   "id": "afed57c4-7984-4404-ad73-953f4e06320c",
   "metadata": {},
   "outputs": [
    {
     "name": "stdout",
     "output_type": "stream",
     "text": [
      "jiwoo\n",
      "seoul\n",
      "010-5120-3167\n"
     ]
    }
   ],
   "source": [
    "for i in info.values():\n",
    "    print(i)"
   ]
  },
  {
   "cell_type": "code",
   "execution_count": 8,
   "id": "948e4653-14c8-4792-8a98-8d63325b7354",
   "metadata": {},
   "outputs": [],
   "source": [
    "bloodtype={'a':5,\n",
    "'b':4,\n",
    "'o':7,\n",
    "'ab':12}"
   ]
  },
  {
   "cell_type": "code",
   "execution_count": 14,
   "id": "eeb74eb1-891d-4a22-9247-068c85a3edb2",
   "metadata": {},
   "outputs": [
    {
     "name": "stdout",
     "output_type": "stream",
     "text": [
      "총인원은 28명 입니다.\n"
     ]
    }
   ],
   "source": [
    "result =0\n",
    "\n",
    "for i in bloodtype.values():\n",
    "    result= result+ i\n",
    "print(f'총인원은 {result}명 입니다.') \n",
    "\n",
    "    "
   ]
  },
  {
   "cell_type": "code",
   "execution_count": null,
   "id": "62f825ff-3afa-477a-b4d0-3f156e3fc2a7",
   "metadata": {},
   "outputs": [],
   "source": []
  },
  {
   "cell_type": "code",
   "execution_count": null,
   "id": "18a4f832-f76d-4d3b-8fcf-6ce994a2aefb",
   "metadata": {},
   "outputs": [],
   "source": []
  },
  {
   "cell_type": "code",
   "execution_count": null,
   "id": "600748eb-e33f-4a82-8663-c4b9526920b9",
   "metadata": {},
   "outputs": [],
   "source": []
  },
  {
   "cell_type": "code",
   "execution_count": null,
   "id": "8a5e62f2-8d1a-4a45-97cc-e2b98c83557f",
   "metadata": {},
   "outputs": [],
   "source": []
  },
  {
   "cell_type": "code",
   "execution_count": null,
   "id": "5cd11773-7b4e-4fa0-ab92-47499d08cc01",
   "metadata": {},
   "outputs": [],
   "source": []
  }
 ],
 "metadata": {
  "kernelspec": {
   "display_name": "Python 3 (ipykernel)",
   "language": "python",
   "name": "python3"
  },
  "language_info": {
   "codemirror_mode": {
    "name": "ipython",
    "version": 3
   },
   "file_extension": ".py",
   "mimetype": "text/x-python",
   "name": "python",
   "nbconvert_exporter": "python",
   "pygments_lexer": "ipython3",
   "version": "3.11.4"
  }
 },
 "nbformat": 4,
 "nbformat_minor": 5
}
