{
 "cells": [
  {
   "cell_type": "markdown",
   "id": "6d95a953-4755-4048-97ec-031f3948f5a2",
   "metadata": {},
   "source": [
    "# 제어문\n",
    "\n",
    "### 조건문(if문)"
   ]
  },
  {
   "cell_type": "code",
   "execution_count": null,
   "id": "45541696-8bac-408a-b06c-10fc6dfb8722",
   "metadata": {},
   "outputs": [],
   "source": []
  },
  {
   "cell_type": "markdown",
   "id": "96eeb62a-e50a-44dd-bcc4-1543dc360ae1",
   "metadata": {},
   "source": [
    "## 조건 표현식\n",
    "\n",
    " true_value if <조건식> else false_value"
   ]
  },
  {
   "cell_type": "code",
   "execution_count": 1,
   "id": "656365e9-9fbe-4b49-bec2-5825a4d16108",
   "metadata": {},
   "outputs": [
    {
     "name": "stdout",
     "output_type": "stream",
     "text": [
      "True\n"
     ]
    }
   ],
   "source": [
    "print('True') if 1>0 else print('False')"
   ]
  },
  {
   "cell_type": "code",
   "execution_count": 2,
   "id": "27db030f-54f1-4a87-b7b1-e2f00f460e2e",
   "metadata": {},
   "outputs": [
    {
     "name": "stdout",
     "output_type": "stream",
     "text": [
      "False\n"
     ]
    }
   ],
   "source": [
    "print('True') if 1<0 else print('False')"
   ]
  },
  {
   "cell_type": "code",
   "execution_count": 3,
   "id": "4c598112-78c5-42bb-8609-60e326e7c47b",
   "metadata": {},
   "outputs": [
    {
     "name": "stdout",
     "output_type": "stream",
     "text": [
      "0\n"
     ]
    }
   ],
   "source": [
    "num= -5\n",
    "value= num if num>=0 else 0\n",
    "print(value)"
   ]
  },
  {
   "cell_type": "code",
   "execution_count": 4,
   "id": "ce9fc3de-2ce1-4272-8d51-5d2ee932de3e",
   "metadata": {},
   "outputs": [
    {
     "name": "stdout",
     "output_type": "stream",
     "text": [
      "5\n"
     ]
    }
   ],
   "source": [
    "num= 5\n",
    "value= num if num>=0 else 0\n",
    "print(value)"
   ]
  },
  {
   "cell_type": "code",
   "execution_count": 8,
   "id": "e82cc805-6c72-4c4d-90f0-424e3918d879",
   "metadata": {},
   "outputs": [
    {
     "name": "stdout",
     "output_type": "stream",
     "text": [
      "even\n"
     ]
    }
   ],
   "source": [
    "num=2\n",
    "value='even' if num % 2 == 0 else \"odd\"\n",
    "print(value)"
   ]
  },
  {
   "cell_type": "markdown",
   "id": "ed10f895-2ad9-4870-92fb-c26e442240c8",
   "metadata": {},
   "source": [
    "## 반복문\n",
    "### while 문\n"
   ]
  },
  {
   "cell_type": "code",
   "execution_count": 1,
   "id": "82b1d87d-3c18-49a7-be8b-f2a1b6dd83b9",
   "metadata": {},
   "outputs": [
    {
     "name": "stdout",
     "output_type": "stream",
     "text": [
      "1\n",
      "2\n",
      "3\n",
      "4\n",
      "5\n"
     ]
    }
   ],
   "source": [
    "a=0\n",
    "\n",
    "while  a<5:\n",
    "    a+=1\n",
    "    print(a)"
   ]
  },
  {
   "cell_type": "code",
   "execution_count": 3,
   "id": "96553a80-a9e1-4f7f-ac23-7c5605852e7e",
   "metadata": {},
   "outputs": [
    {
     "name": "stdin",
     "output_type": "stream",
     "text": [
      " 123\n"
     ]
    },
    {
     "name": "stdout",
     "output_type": "stream",
     "text": [
      "123\n"
     ]
    }
   ],
   "source": [
    "a=input()\n",
    "\n",
    "while True:\n",
    "    print(a)\n",
    "    a=='안녕'\n",
    "    break"
   ]
  },
  {
   "cell_type": "code",
   "execution_count": null,
   "id": "0c9896e7-8975-4aac-8c37-db2eeb3b24ec",
   "metadata": {},
   "outputs": [],
   "source": []
  },
  {
   "cell_type": "code",
   "execution_count": 4,
   "id": "9c4fe550-9e4f-415b-86ad-d0850a9ffd3f",
   "metadata": {},
   "outputs": [
    {
     "name": "stdin",
     "output_type": "stream",
     "text": [
      "안녕이라고해줘 : 123\n",
      "안녕이라고해줘 : 1234\n",
      "안녕이라고해줘 : 안녕\n"
     ]
    }
   ],
   "source": [
    "# 사용자가 '안녕' 이라고 할때까지 계속 입력을 요청받는\n",
    "\n",
    "greeting=''\n",
    "while greeting !='안녕':\n",
    "    greeting=input('안녕이라고해줘 :')"
   ]
  },
  {
   "cell_type": "markdown",
   "id": "bc7f3585-2846-448c-a01a-13e42b690548",
   "metadata": {},
   "source": [
    "# for\n",
    "\n",
    " for variable in sequence:\n",
    " code"
   ]
  },
  {
   "cell_type": "code",
   "execution_count": null,
   "id": "5afd8876-0eb6-413e-8a83-e5cd81c3277c",
   "metadata": {},
   "outputs": [],
   "source": [
    "a=[1,2,3,4,5] \n",
    "\n",
    "for i in a:"
   ]
  },
  {
   "cell_type": "code",
   "execution_count": 7,
   "id": "4818bd69-75a9-4ac5-be6c-f4896d117f21",
   "metadata": {},
   "outputs": [
    {
     "name": "stdin",
     "output_type": "stream",
     "text": [
      "입력하세요 : hello\n"
     ]
    },
    {
     "name": "stdout",
     "output_type": "stream",
     "text": [
      "h\n",
      "e\n",
      "l\n",
      "l\n",
      "o\n"
     ]
    }
   ],
   "source": [
    "# for문을 사용해 사용자가 입력한 데이터를 하글자씩 출력하는 코드\n",
    "\n",
    "word=input('입력하세요 :')\n",
    "\n",
    "for i in word:\n",
    "    print(i)"
   ]
  },
  {
   "cell_type": "code",
   "execution_count": 12,
   "id": "e8d1ca15-8737-4235-9b98-fde6e0b57ab5",
   "metadata": {},
   "outputs": [
    {
     "name": "stdout",
     "output_type": "stream",
     "text": [
      "1\n",
      "3\n",
      "5\n",
      "7\n",
      "9\n",
      "11\n",
      "13\n",
      "15\n",
      "17\n",
      "19\n",
      "21\n",
      "23\n",
      "25\n",
      "27\n",
      "29\n"
     ]
    }
   ],
   "source": [
    "# 30까지 홀수만 추가하\n",
    "\n",
    "for i in range(31):\n",
    "    if i % 2==1:\n",
    "        print(i)\n",
    "    \n",
    "    "
   ]
  },
  {
   "cell_type": "code",
   "execution_count": 16,
   "id": "e8ca8145-d849-43a7-8a42-bc5bf6031b82",
   "metadata": {},
   "outputs": [
    {
     "name": "stdout",
     "output_type": "stream",
     "text": [
      "[1, 3, 5, 7, 9, 11, 13, 15, 17, 19, 21, 23, 25, 27, 29]\n"
     ]
    }
   ],
   "source": [
    "#홀수 리스트에 추가\n",
    "a=[]\n",
    "for i in range(31):\n",
    "    if i % 2==1:\n",
    "        a.append(i)\n",
    "print(a)        "
   ]
  },
  {
   "cell_type": "code",
   "execution_count": 17,
   "id": "1b919134-7310-4584-a1b4-733bedd6ff39",
   "metadata": {},
   "outputs": [
    {
     "name": "stdout",
     "output_type": "stream",
     "text": [
      "라면\n",
      "김밥\n",
      " 돈까스\n"
     ]
    }
   ],
   "source": [
    "menus= ['라면' , '김밥', '돈까스']\n",
    "\n",
    "for i in menus:\n",
    "    print(i)"
   ]
  },
  {
   "cell_type": "code",
   "execution_count": 19,
   "id": "90538045-f062-4504-8586-3083def0c4e6",
   "metadata": {},
   "outputs": [
    {
     "name": "stdout",
     "output_type": "stream",
     "text": [
      "(0, '라면')\n",
      "(1, '김밥')\n",
      "(2, '돈까스')\n"
     ]
    }
   ],
   "source": [
    "menus= ['라면' , '김밥', '돈까스']\n",
    "\n",
    "for i in enumerate(menus):\n",
    "    print(i)"
   ]
  },
  {
   "cell_type": "code",
   "execution_count": 20,
   "id": "df8a24e3-d5cf-4da0-877e-8a94107ac18a",
   "metadata": {},
   "outputs": [
    {
     "name": "stdout",
     "output_type": "stream",
     "text": [
      "0\n",
      "라면\n",
      "1\n",
      "김밥\n",
      "2\n",
      "돈까스\n"
     ]
    }
   ],
   "source": [
    "menus= ['라면' , '김밥', '돈까스']\n",
    "\n",
    "for i in enumerate(menus):\n",
    "    print(i[0])\n",
    "    print(i[1])"
   ]
  },
  {
   "cell_type": "markdown",
   "id": "32d01b6f-b7fa-4918-9b39-2779b53cc75a",
   "metadata": {},
   "source": [
    "# Dictionary 반복\n",
    " 1.for key in dict\n",
    " "
   ]
  },
  {
   "cell_type": "code",
   "execution_count": 23,
   "id": "a1d5e25b-1471-469a-976b-1e5ce5950cc3",
   "metadata": {},
   "outputs": [],
   "source": [
    "info= {\n",
    "    'name':'jiwoo',\n",
    "    'location': 'seoul',\n",
    "    'phone':'010-5120-3167'}"
   ]
  },
  {
   "cell_type": "code",
   "execution_count": 24,
   "id": "6b789c2d-59c1-4ea9-a0d7-e72362c018ec",
   "metadata": {},
   "outputs": [
    {
     "name": "stdout",
     "output_type": "stream",
     "text": [
      "name\n",
      "jiwoo\n",
      "location\n",
      "seoul\n",
      "phone\n",
      "010-5120-3167\n"
     ]
    }
   ],
   "source": [
    "for i in info:\n",
    "    print(i)\n",
    "    print(info[i])"
   ]
  },
  {
   "cell_type": "code",
   "execution_count": 25,
   "id": "cfa43d8c-6a03-4e91-9386-d97206209ff5",
   "metadata": {},
   "outputs": [],
   "source": [
    "bloodtype={'a':5,\n",
    "'b':4,\n",
    "'o':7,\n",
    "'ab':12}"
   ]
  },
  {
   "cell_type": "code",
   "execution_count": 27,
   "id": "e4db421d-4984-4ffc-bf5b-b6f055323f2e",
   "metadata": {},
   "outputs": [
    {
     "name": "stdout",
     "output_type": "stream",
     "text": [
      "혈액형은 다음과 같습니다:\n",
      "a\n",
      "b\n",
      "o\n",
      "ab\n"
     ]
    }
   ],
   "source": [
    " print('혈액형은 다음과 같습니다:' )\n",
    "for key in bloodtype:\n",
    "    print(key)"
   ]
  },
  {
   "cell_type": "code",
   "execution_count": 28,
   "id": "cb54a2ee-02e2-4c50-83bd-b4bcb9a74a7e",
   "metadata": {},
   "outputs": [
    {
     "name": "stdout",
     "output_type": "stream",
     "text": [
      "5\n",
      "4\n",
      "7\n",
      "12\n"
     ]
    }
   ],
   "source": [
    "for i in bloodtype.values():\n",
    "    print(i)"
   ]
  },
  {
   "cell_type": "code",
   "execution_count": 29,
   "id": "b5731788-c8da-449b-88c2-f00554433841",
   "metadata": {},
   "outputs": [
    {
     "name": "stdout",
     "output_type": "stream",
     "text": [
      "a 5\n",
      "b 4\n",
      "o 7\n",
      "ab 12\n"
     ]
    }
   ],
   "source": [
    "for key,value  in bloodtype.items():\n",
    "    print(key,value)"
   ]
  },
  {
   "cell_type": "code",
   "execution_count": 30,
   "id": "2398a214-31f6-43ad-8a09-95075f0b87ce",
   "metadata": {},
   "outputs": [
    {
     "name": "stdout",
     "output_type": "stream",
     "text": [
      "a형은 5명입니다.\n",
      "b형은 4명입니다.\n",
      "o형은 7명입니다.\n",
      "ab형은 12명입니다.\n"
     ]
    }
   ],
   "source": [
    "for key,value  in bloodtype.items():\n",
    "    print(f'{key}형은 {value}명입니다.')"
   ]
  },
  {
   "cell_type": "code",
   "execution_count": 31,
   "id": "f10505f9-2965-4ab3-918c-073e61c190af",
   "metadata": {},
   "outputs": [
    {
     "data": {
      "text/plain": [
       "dict_items([('a', 5), ('b', 4), ('o', 7), ('ab', 12)])"
      ]
     },
     "execution_count": 31,
     "metadata": {},
     "output_type": "execute_result"
    }
   ],
   "source": [
    "bloodtype.items()"
   ]
  },
  {
   "cell_type": "markdown",
   "id": "bee1b846-0d1a-45f5-bbf8-eab464740250",
   "metadata": {},
   "source": [
    "### Break\n",
    "- 반복문을 종료시키는  키워드"
   ]
  },
  {
   "cell_type": "code",
   "execution_count": 33,
   "id": "ad61a109-735a-48a0-bca1-833a4ddf710e",
   "metadata": {},
   "outputs": [
    {
     "name": "stdout",
     "output_type": "stream",
     "text": [
      "보리\n",
      "보리\n",
      "보리\n",
      "잡았다\n"
     ]
    }
   ],
   "source": [
    "rice=['보리','보리','보리','쌀', '보리']\n",
    "\n",
    "for i in rice:    \n",
    "    if i =='쌀':\n",
    "        print('잡았다')\n",
    "        break\n",
    "    else:\n",
    "        print(i)"
   ]
  },
  {
   "cell_type": "markdown",
   "id": "203e8714-69da-4ef2-a89c-5bf69884a924",
   "metadata": {},
   "source": [
    "# continue\n",
    "- continue 이후의 코드를 실행하지 않고 다음 반복을 진행"
   ]
  },
  {
   "cell_type": "code",
   "execution_count": null,
   "id": "9b6dcbb0-047e-4ce6-832e-d4176a4160ea",
   "metadata": {},
   "outputs": [],
   "source": []
  },
  {
   "cell_type": "markdown",
   "id": "ac6f15e7-41fd-4424-adec-8f0363e0e756",
   "metadata": {},
   "source": [
    "# else\n",
    "\n",
    "- else 문은 끝까지 반복이 진행된 후 실행됩니다. "
   ]
  },
  {
   "cell_type": "code",
   "execution_count": 37,
   "id": "585dc987-50f7-4ac3-9bb9-e847bd55f1b1",
   "metadata": {},
   "outputs": [
    {
     "name": "stdout",
     "output_type": "stream",
     "text": [
      "0\n",
      "1\n",
      "2\n",
      "3\n",
      "4\n",
      "5\n",
      "6\n",
      "7\n",
      "8\n",
      "9\n",
      "break 못만남\n"
     ]
    }
   ],
   "source": [
    "for i in range(10):\n",
    "    if i > 100:\n",
    "        break\n",
    "    print(i)   \n",
    "else:\n",
    "    print('break 못만남')"
   ]
  },
  {
   "cell_type": "code",
   "execution_count": 38,
   "id": "1f3d08c0-6b7e-4501-bcb8-9e70de0cca07",
   "metadata": {},
   "outputs": [
    {
     "name": "stdout",
     "output_type": "stream",
     "text": [
      "0\n",
      "1\n",
      "2\n",
      "3\n",
      "4\n",
      "5\n"
     ]
    }
   ],
   "source": [
    "for i in range(10):\n",
    "    if i > 5:\n",
    "        break\n",
    "    print(i)   \n",
    "else:\n",
    "    print('break 못만남')"
   ]
  },
  {
   "cell_type": "code",
   "execution_count": 40,
   "id": "21c3b879-d68e-44a7-9f49-9533248fe219",
   "metadata": {},
   "outputs": [
    {
     "name": "stdout",
     "output_type": "stream",
     "text": [
      "True\n",
      "True\n",
      "True\n",
      "True\n",
      "True\n"
     ]
    }
   ],
   "source": [
    "a=[1,3,5,7,9]\n",
    "target=5\n",
    "for i in a:\n",
    "    if target in a:\n",
    "        print(\"True\")\n",
    "    else:\n",
    "        print(\"false\")"
   ]
  },
  {
   "cell_type": "code",
   "execution_count": 43,
   "id": "838b1628-6522-4ed5-8417-98428a2e1267",
   "metadata": {},
   "outputs": [
    {
     "name": "stdout",
     "output_type": "stream",
     "text": [
      "false\n"
     ]
    }
   ],
   "source": [
    "a=[1,3,5,7,9]\n",
    "target=6\n",
    "for i in a:\n",
    "    if i == target:\n",
    "        print(\"True\")\n",
    "        break\n",
    "else:\n",
    "        print(\"false\")"
   ]
  },
  {
   "cell_type": "markdown",
   "id": "15c355d8-d011-4346-b7fc-2e4e9a477c49",
   "metadata": {},
   "source": [
    "## pass"
   ]
  },
  {
   "cell_type": "code",
   "execution_count": 44,
   "id": "2fd2c834-38b8-418c-9b96-cfd0ab455517",
   "metadata": {},
   "outputs": [],
   "source": [
    "if True:\n",
    "    pass"
   ]
  },
  {
   "cell_type": "markdown",
   "id": "2c907368-6de5-4acf-8dd5-3cb43c553086",
   "metadata": {},
   "source": [
    "### match\n",
    "\n",
    "    match value:\n",
    "        case 조건:\n",
    "            code\n",
    "        case 조건:\n",
    "            code"
   ]
  },
  {
   "cell_type": "code",
   "execution_count": 49,
   "id": "2e01025e-871d-400c-abeb-88d8276ff376",
   "metadata": {},
   "outputs": [
    {
     "name": "stdout",
     "output_type": "stream",
     "text": [
      "wrong\n"
     ]
    }
   ],
   "source": [
    "status=100\n",
    "\n",
    "match status:\n",
    "     case 400:\n",
    "        print('Bad request')\n",
    "     case 404:\n",
    "        print('Not found')    \n",
    "     case _:\n",
    "        print('wrong') "
   ]
  },
  {
   "cell_type": "code",
   "execution_count": null,
   "id": "fd6e0fcd-7dee-42f8-b979-1949a3a45038",
   "metadata": {},
   "outputs": [],
   "source": []
  },
  {
   "cell_type": "code",
   "execution_count": null,
   "id": "b8bf50eb-5d77-4ea7-823f-7f7c3cb61b3f",
   "metadata": {},
   "outputs": [],
   "source": []
  },
  {
   "cell_type": "code",
   "execution_count": null,
   "id": "cd2748b2-4151-4bc0-b9fc-19e528b0241f",
   "metadata": {},
   "outputs": [],
   "source": []
  },
  {
   "cell_type": "code",
   "execution_count": null,
   "id": "e46657ba-97ec-4ce7-884b-5d0d2b200a39",
   "metadata": {},
   "outputs": [],
   "source": []
  }
 ],
 "metadata": {
  "kernelspec": {
   "display_name": "Python 3 (ipykernel)",
   "language": "python",
   "name": "python3"
  },
  "language_info": {
   "codemirror_mode": {
    "name": "ipython",
    "version": 3
   },
   "file_extension": ".py",
   "mimetype": "text/x-python",
   "name": "python",
   "nbconvert_exporter": "python",
   "pygments_lexer": "ipython3",
   "version": "3.11.4"
  }
 },
 "nbformat": 4,
 "nbformat_minor": 5
}
