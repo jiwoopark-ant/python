{
 "cells": [
  {
   "cell_type": "markdown",
   "id": "6d95a953-4755-4048-97ec-031f3948f5a2",
   "metadata": {},
   "source": [
    "# 제어문\n",
    "\n",
    "### 조건문(if문)"
   ]
  },
  {
   "cell_type": "code",
   "execution_count": null,
   "id": "45541696-8bac-408a-b06c-10fc6dfb8722",
   "metadata": {},
   "outputs": [],
   "source": []
  },
  {
   "cell_type": "markdown",
   "id": "96eeb62a-e50a-44dd-bcc4-1543dc360ae1",
   "metadata": {},
   "source": [
    "## 조건 표현식\n",
    "\n",
    " true_value if <조건식> else false_value"
   ]
  },
  {
   "cell_type": "code",
   "execution_count": 1,
   "id": "656365e9-9fbe-4b49-bec2-5825a4d16108",
   "metadata": {},
   "outputs": [
    {
     "name": "stdout",
     "output_type": "stream",
     "text": [
      "True\n"
     ]
    }
   ],
   "source": [
    "print('True') if 1>0 else print('False')"
   ]
  },
  {
   "cell_type": "code",
   "execution_count": 2,
   "id": "27db030f-54f1-4a87-b7b1-e2f00f460e2e",
   "metadata": {},
   "outputs": [
    {
     "name": "stdout",
     "output_type": "stream",
     "text": [
      "False\n"
     ]
    }
   ],
   "source": [
    "print('True') if 1<0 else print('False')"
   ]
  },
  {
   "cell_type": "code",
   "execution_count": 3,
   "id": "4c598112-78c5-42bb-8609-60e326e7c47b",
   "metadata": {},
   "outputs": [
    {
     "name": "stdout",
     "output_type": "stream",
     "text": [
      "0\n"
     ]
    }
   ],
   "source": [
    "num= -5\n",
    "value= num if num>=0 else 0\n",
    "print(value)"
   ]
  },
  {
   "cell_type": "code",
   "execution_count": 4,
   "id": "ce9fc3de-2ce1-4272-8d51-5d2ee932de3e",
   "metadata": {},
   "outputs": [
    {
     "name": "stdout",
     "output_type": "stream",
     "text": [
      "5\n"
     ]
    }
   ],
   "source": [
    "num= 5\n",
    "value= num if num>=0 else 0\n",
    "print(value)"
   ]
  },
  {
   "cell_type": "code",
   "execution_count": 7,
   "id": "e82cc805-6c72-4c4d-90f0-424e3918d879",
   "metadata": {},
   "outputs": [
    {
     "ename": "SyntaxError",
     "evalue": "expected 'else' after 'if' expression (4250997420.py, line 2)",
     "output_type": "error",
     "traceback": [
      "\u001b[1;36m  Cell \u001b[1;32mIn[7], line 2\u001b[1;36m\u001b[0m\n\u001b[1;33m    value='even' if num % 2 = 0 else value= \"odd\"\u001b[0m\n\u001b[1;37m          ^\u001b[0m\n\u001b[1;31mSyntaxError\u001b[0m\u001b[1;31m:\u001b[0m expected 'else' after 'if' expression\n"
     ]
    }
   ],
   "source": [
    "num=2\n",
    "value='even' if num % 2 == 0 else value= \"odd\"\n",
    "print(value)"
   ]
  },
  {
   "cell_type": "code",
   "execution_count": null,
   "id": "eadcfe99-d1b5-4aeb-99a6-956ab18db127",
   "metadata": {},
   "outputs": [],
   "source": []
  },
  {
   "cell_type": "code",
   "execution_count": null,
   "id": "82b1d87d-3c18-49a7-be8b-f2a1b6dd83b9",
   "metadata": {},
   "outputs": [],
   "source": []
  },
  {
   "cell_type": "code",
   "execution_count": null,
   "id": "5afd8876-0eb6-413e-8a83-e5cd81c3277c",
   "metadata": {},
   "outputs": [],
   "source": []
  },
  {
   "cell_type": "code",
   "execution_count": null,
   "id": "4818bd69-75a9-4ac5-be6c-f4896d117f21",
   "metadata": {},
   "outputs": [],
   "source": []
  },
  {
   "cell_type": "code",
   "execution_count": null,
   "id": "585dc987-50f7-4ac3-9bb9-e847bd55f1b1",
   "metadata": {},
   "outputs": [],
   "source": []
  },
  {
   "cell_type": "code",
   "execution_count": null,
   "id": "cd2748b2-4151-4bc0-b9fc-19e528b0241f",
   "metadata": {},
   "outputs": [],
   "source": []
  },
  {
   "cell_type": "code",
   "execution_count": null,
   "id": "e46657ba-97ec-4ce7-884b-5d0d2b200a39",
   "metadata": {},
   "outputs": [],
   "source": []
  }
 ],
 "metadata": {
  "kernelspec": {
   "display_name": "Python 3 (ipykernel)",
   "language": "python",
   "name": "python3"
  },
  "language_info": {
   "codemirror_mode": {
    "name": "ipython",
    "version": 3
   },
   "file_extension": ".py",
   "mimetype": "text/x-python",
   "name": "python",
   "nbconvert_exporter": "python",
   "pygments_lexer": "ipython3",
   "version": "3.11.4"
  }
 },
 "nbformat": 4,
 "nbformat_minor": 5
}
