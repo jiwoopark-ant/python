{
 "cells": [
  {
   "cell_type": "markdown",
   "id": "d078e410-0c5d-4b81-b992-322da1f369e7",
   "metadata": {},
   "source": [
    "## 함수 선언과 흐름\n",
    "\n",
    "```python\n",
    "def func_name(parameter1,parameter2...):\n",
    "    code1\n",
    "    code2\n",
    "    ...\n",
    "    return value    \n",
    "```"
   ]
  },
  {
   "cell_type": "code",
   "execution_count": 6,
   "id": "eb6a950e-5c3e-4c67-a95a-68a5a0be71e4",
   "metadata": {},
   "outputs": [],
   "source": [
    "def rectangle(height, width):\n",
    "    area = height*width\n",
    "    perimeter = (height + width)*2\n",
    "    print(f'직사각형의 둘레는 {perimeter}, 면적은 {area}입니다.')"
   ]
  },
  {
   "cell_type": "code",
   "execution_count": 7,
   "id": "80638dab-1131-47fd-a1dc-efbbe36dce62",
   "metadata": {},
   "outputs": [
    {
     "name": "stdout",
     "output_type": "stream",
     "text": [
      "직사각형의 둘레는 60, 면적은 200입니다.\n"
     ]
    }
   ],
   "source": [
    "rectangle(10,20)"
   ]
  },
  {
   "cell_type": "code",
   "execution_count": 11,
   "id": "a587168e-a60e-4b0f-93d4-e6a8c4ab025a",
   "metadata": {},
   "outputs": [],
   "source": [
    "def my_max(num1,num2):\n",
    "    if num1> num2 :\n",
    "        print(num1)\n",
    "    else:\n",
    "        print(num2)\n",
    "    "
   ]
  },
  {
   "cell_type": "code",
   "execution_count": 12,
   "id": "752c90ec-e0a5-4a2c-87f8-d6c4343f88d2",
   "metadata": {},
   "outputs": [
    {
     "name": "stdout",
     "output_type": "stream",
     "text": [
      "7\n"
     ]
    }
   ],
   "source": [
    "my_max(5,7)"
   ]
  },
  {
   "cell_type": "markdown",
   "id": "900ef393-8930-4ee3-b882-1e14899cebfb",
   "metadata": {},
   "source": [
    "# 함수의 return\n",
    "- 함수의 return을 만나면 해당 갑ㅅ을 반환하고 함수를 종료\n",
    "- 만약 return이 없다면 None을 자동으로 반환\n",
    "- return은 오직 하나의 객체만 반환"
   ]
  },
  {
   "cell_type": "code",
   "execution_count": 2,
   "id": "953dea2a-8602-4c82-90ff-170164bf3f80",
   "metadata": {},
   "outputs": [],
   "source": [
    "def my_max2(num1,num2):\n",
    "    if num1 > num2 :\n",
    "        return num1\n",
    "    elif num1< num2:\n",
    "        return num2\n",
    "    else:\n",
    "        return 0"
   ]
  },
  {
   "cell_type": "code",
   "execution_count": 3,
   "id": "9a1f2959-ae89-4853-8924-50ad7ac17dc3",
   "metadata": {},
   "outputs": [
    {
     "data": {
      "text/plain": [
       "7"
      ]
     },
     "execution_count": 3,
     "metadata": {},
     "output_type": "execute_result"
    }
   ],
   "source": [
    "my_max2(1,7)"
   ]
  },
  {
   "cell_type": "markdown",
   "id": "7b865c8c-8828-4fef-bac2-06f2f30a73c1",
   "metadata": {},
   "source": [
    "## 함수의 인자"
   ]
  },
  {
   "cell_type": "markdown",
   "id": "aee20128-3dfe-49d0-8eb9-24317dd850f7",
   "metadata": {},
   "source": [
    "### 위치 인수\n",
    "\n",
    "기본적으로 함수는 인수의 위치로 판단합니다."
   ]
  },
  {
   "cell_type": "code",
   "execution_count": 1,
   "id": "4f2a58a0-6726-474d-a0eb-5e91c3822e93",
   "metadata": {},
   "outputs": [
    {
     "data": {
      "text/plain": [
       "1570.0"
      ]
     },
     "execution_count": 1,
     "metadata": {},
     "output_type": "execute_result"
    }
   ],
   "source": [
    "def cylinder(r,h):\n",
    "    return 3.14*r**2*h\n",
    "\n",
    "cylinder(10,5)\n"
   ]
  },
  {
   "cell_type": "markdown",
   "id": "52b02988-a00b-4a6b-86ca-443340348097",
   "metadata": {},
   "source": [
    "## 기본값"
   ]
  },
  {
   "cell_type": "code",
   "execution_count": null,
   "id": "a2737cd7-ce3b-4bc6-82da-f89aea6f08a3",
   "metadata": {},
   "outputs": [],
   "source": [
    "def func(p1=v1):\n",
    "       retuen v1"
   ]
  },
  {
   "cell_type": "code",
   "execution_count": 4,
   "id": "6bb4aac1-5338-4498-848c-b33604b45cd0",
   "metadata": {},
   "outputs": [
    {
     "name": "stdout",
     "output_type": "stream",
     "text": [
      "지우님 반갑습니다.\n",
      "익명님 반갑습니다.\n"
     ]
    }
   ],
   "source": [
    "def greeting(name='익명'):\n",
    "    return f'{name}님 반갑습니다.'\n",
    "\n",
    "print(greeting('지우'))\n",
    "print(greeting())"
   ]
  },
  {
   "cell_type": "markdown",
   "id": "0afd37bf-75ce-4c69-a636-ed82bf2d5c32",
   "metadata": {},
   "source": [
    "### 기본값(like)인자 다음 그냥 인자가 들어가면 오류가 나타난다 "
   ]
  },
  {
   "cell_type": "code",
   "execution_count": 5,
   "id": "f4656d76-08a8-4457-bbb0-330b6fd61e9e",
   "metadata": {},
   "outputs": [
    {
     "ename": "SyntaxError",
     "evalue": "non-default argument follows default argument (1014740045.py, line 1)",
     "output_type": "error",
     "traceback": [
      "\u001b[1;36m  Cell \u001b[1;32mIn[5], line 1\u001b[1;36m\u001b[0m\n\u001b[1;33m    def greeting(name='익명', age):\u001b[0m\n\u001b[1;37m                            ^\u001b[0m\n\u001b[1;31mSyntaxError\u001b[0m\u001b[1;31m:\u001b[0m non-default argument follows default argument\n"
     ]
    }
   ],
   "source": [
    "def greeting(name='익명', age):\n",
    "    return f'{name}님은 {age} 입니다.'\n",
    "\n",
    "print(greeting('지우'))\n",
    "print(greeting())"
   ]
  },
  {
   "cell_type": "code",
   "execution_count": 6,
   "id": "8fdfb34d-d25e-47ef-b11b-69646a8d70b5",
   "metadata": {},
   "outputs": [
    {
     "name": "stdout",
     "output_type": "stream",
     "text": [
      "익명님은 3 입니다.\n"
     ]
    }
   ],
   "source": [
    "def greeting(age,name='익명'):\n",
    "    return f'{name}님은 {age} 입니다.'\n",
    "\n",
    "print(greeting(3))"
   ]
  },
  {
   "cell_type": "markdown",
   "id": "68505801-572a-490a-ada0-44d390a1ed0e",
   "metadata": {},
   "source": [
    "### 키워드 인자\n",
    "\n",
    "- 함수를 실행 할때 내가 원하는 위치에 직접적으로 특정인자를 전달가능"
   ]
  },
  {
   "cell_type": "code",
   "execution_count": 7,
   "id": "aee7e82e-801c-49cb-91cd-d94a475194a8",
   "metadata": {},
   "outputs": [
    {
     "name": "stdout",
     "output_type": "stream",
     "text": [
      "홍길동님은 10 입니다.\n",
      "홍길동님은 20 입니다.\n"
     ]
    }
   ],
   "source": [
    "def greeting(age,name='익명'):\n",
    "    return f'{name}님은 {age} 입니다.'\n",
    "\n",
    "print(greeting(10, '홍길동'))\n",
    "\n",
    "print(greeting(name='홍길동',age=20))"
   ]
  },
  {
   "cell_type": "markdown",
   "id": "202d1a9c-dba0-4666-a1ca-d3a06e27d83c",
   "metadata": {},
   "source": [
    "### 가변 인자 리스트\n",
    "\n",
    "```python\n",
    "def func(*params):\n",
    "    pass\n",
    "```"
   ]
  },
  {
   "cell_type": "code",
   "execution_count": 14,
   "id": "f97a394a-d742-41fc-a939-248ed5ebf6e9",
   "metadata": {},
   "outputs": [
    {
     "name": "stdout",
     "output_type": "stream",
     "text": [
      "('hi', 'hello', '안녕', '하세요')\n",
      "<class 'tuple'>\n"
     ]
    }
   ],
   "source": [
    "def my_print(*words):\n",
    "    print(words)\n",
    "    print(type(words))\n",
    "\n",
    "my_print('hi','hello','안녕','하세요')"
   ]
  },
  {
   "cell_type": "markdown",
   "id": "037110ac-99bd-44c7-a0bb-2866cac0af96",
   "metadata": {},
   "source": [
    "my_max 가변인자 활용해서 함수 만들기"
   ]
  },
  {
   "cell_type": "code",
   "execution_count": 12,
   "id": "5a3c71cc-6dfd-44a4-8466-ce8e65c9bf57",
   "metadata": {},
   "outputs": [],
   "source": [
    "result=0\n",
    "\n",
    "def my_max(*numbers):\n",
    "    result=0\n",
    "    for i in numbers:\n",
    "        if i > result:\n",
    "            result = i\n",
    "    return result        \n",
    "            "
   ]
  },
  {
   "cell_type": "code",
   "execution_count": 13,
   "id": "77852b3b-8f62-45ca-af44-324353b4ffe4",
   "metadata": {},
   "outputs": [
    {
     "data": {
      "text/plain": [
       "5"
      ]
     },
     "execution_count": 13,
     "metadata": {},
     "output_type": "execute_result"
    }
   ],
   "source": [
    "my_max(1,2,3,4,5)"
   ]
  },
  {
   "cell_type": "code",
   "execution_count": 18,
   "id": "ff664974-139f-4ac2-a430-d56042e316ba",
   "metadata": {},
   "outputs": [],
   "source": [
    "\n",
    "\n",
    "def my_max2(*numbers):\n",
    "    result= my_max2[0]\n",
    "    for i in numbers:\n",
    "        if i > result:\n",
    "            result = i\n",
    "    return result   "
   ]
  },
  {
   "cell_type": "code",
   "execution_count": 19,
   "id": "403e779b-38df-4b4b-b78a-9cdf6f4d263d",
   "metadata": {},
   "outputs": [
    {
     "ename": "TypeError",
     "evalue": "'function' object is not subscriptable",
     "output_type": "error",
     "traceback": [
      "\u001b[1;31m---------------------------------------------------------------------------\u001b[0m",
      "\u001b[1;31mTypeError\u001b[0m                                 Traceback (most recent call last)",
      "Cell \u001b[1;32mIn[19], line 1\u001b[0m\n\u001b[1;32m----> 1\u001b[0m \u001b[43mmy_max2\u001b[49m\u001b[43m(\u001b[49m\u001b[38;5;241;43m-\u001b[39;49m\u001b[38;5;241;43m1\u001b[39;49m\u001b[43m,\u001b[49m\u001b[38;5;241;43m-\u001b[39;49m\u001b[38;5;241;43m2\u001b[39;49m\u001b[43m,\u001b[49m\u001b[38;5;241;43m-\u001b[39;49m\u001b[38;5;241;43m3\u001b[39;49m\u001b[43m,\u001b[49m\u001b[38;5;241;43m-\u001b[39;49m\u001b[38;5;241;43m4\u001b[39;49m\u001b[43m)\u001b[49m\n",
      "Cell \u001b[1;32mIn[18], line 2\u001b[0m, in \u001b[0;36mmy_max2\u001b[1;34m(*numbers)\u001b[0m\n\u001b[0;32m      1\u001b[0m \u001b[38;5;28;01mdef\u001b[39;00m \u001b[38;5;21mmy_max2\u001b[39m(\u001b[38;5;241m*\u001b[39mnumbers):\n\u001b[1;32m----> 2\u001b[0m     result\u001b[38;5;241m=\u001b[39m \u001b[43mmy_max2\u001b[49m\u001b[43m[\u001b[49m\u001b[38;5;241;43m0\u001b[39;49m\u001b[43m]\u001b[49m\n\u001b[0;32m      3\u001b[0m     \u001b[38;5;28;01mfor\u001b[39;00m i \u001b[38;5;129;01min\u001b[39;00m numbers:\n\u001b[0;32m      4\u001b[0m         \u001b[38;5;28;01mif\u001b[39;00m i \u001b[38;5;241m>\u001b[39m result:\n",
      "\u001b[1;31mTypeError\u001b[0m: 'function' object is not subscriptable"
     ]
    }
   ],
   "source": [
    "my_max2(-1,-2,-3,-4)"
   ]
  },
  {
   "cell_type": "markdown",
   "id": "6daefc5e-806e-4e48-b8ed-8ba2a936f8a8",
   "metadata": {},
   "source": [
    "# 정의되지 않은 키워드 인자 처리하기\n",
    "\n"
   ]
  },
  {
   "cell_type": "markdown",
   "id": "f76fa65d-dc20-4195-a8cd-0784ca02b5f5",
   "metadata": {},
   "source": [
    "# 딕셔너리를 인자로 넣기(unpacking)"
   ]
  },
  {
   "cell_type": "markdown",
   "id": "a64f110f-3756-4e57-9f3d-9ca06841c81c",
   "metadata": {},
   "source": [
    "### lambda 표현식\n",
    "\n",
    "```python\n",
    "lambda parameter : expression\n",
    "```"
   ]
  },
  {
   "cell_type": "code",
   "execution_count": 20,
   "id": "b72969df-9e88-4d3c-9fd3-6ec8ee5de4ad",
   "metadata": {},
   "outputs": [
    {
     "data": {
      "text/plain": [
       "3"
      ]
     },
     "execution_count": 20,
     "metadata": {},
     "output_type": "execute_result"
    }
   ],
   "source": [
    "(lambda a,b:a+b)(1,2)"
   ]
  },
  {
   "cell_type": "markdown",
   "id": "27dbcfd3-de75-4569-9b01-ae11c8a96ea0",
   "metadata": {},
   "source": [
    "# 타입힌트"
   ]
  },
  {
   "cell_type": "code",
   "execution_count": null,
   "id": "a9baa512-0de0-4be9-b1c6-71ee620d9e23",
   "metadata": {},
   "outputs": [],
   "source": []
  },
  {
   "cell_type": "markdown",
   "id": "6fda59e7-182d-4f7d-a715-2d70700c9525",
   "metadata": {},
   "source": [
    "# 이름공간 (scope)\n",
    "파이썬에 사용하는 이름들은 이름공간에 저장되어있씁니다.\n",
    "\n",
    "- Local scope : 정의된 함수 내부\n",
    "- Enclosed sxope : 상위함수\n",
    "- Global scope : 함수 밖의 변수 혹은 import된 모듈\n",
    "- Built-in scope : 파이썬이 기본적으로 가지고 있는 함수 혹은 변수"
   ]
  },
  {
   "cell_type": "code",
   "execution_count": null,
   "id": "579486bd-d77f-427e-a4cc-91f47cdc708b",
   "metadata": {},
   "outputs": [],
   "source": []
  },
  {
   "cell_type": "markdown",
   "id": "17c5730b-5ffd-46ca-a17a-1a1da3fdd7b6",
   "metadata": {},
   "source": [
    "# 재귀\n",
    "재귀 함수는 함수 내부에서 자기 자신을 호출하는 함수를 의미한다."
   ]
  },
  {
   "cell_type": "code",
   "execution_count": 25,
   "id": "7d67b108-2575-479a-862b-767164f436f4",
   "metadata": {},
   "outputs": [
    {
     "data": {
      "text/plain": [
       "120"
      ]
     },
     "execution_count": 25,
     "metadata": {},
     "output_type": "execute_result"
    }
   ],
   "source": [
    "#팩토리얼 \n",
    "def fact(n):\n",
    "    result = 1\n",
    "\n",
    "    while n >1:\n",
    "        result=result*n\n",
    "        n=n-1\n",
    "\n",
    "\n",
    "    return result\n",
    "\n",
    "\n",
    "fact(5)"
   ]
  },
  {
   "cell_type": "code",
   "execution_count": 27,
   "id": "95db76c4-890c-47ba-aa5a-35b4d5631a56",
   "metadata": {},
   "outputs": [
    {
     "data": {
      "text/plain": [
       "120"
      ]
     },
     "execution_count": 27,
     "metadata": {},
     "output_type": "execute_result"
    }
   ],
   "source": [
    "def factorial(n):\n",
    "    if n <=1:\n",
    "        return 1\n",
    "    else:\n",
    "        return factorial(n-1)*n\n",
    "\n",
    "factorial(5)"
   ]
  },
  {
   "cell_type": "code",
   "execution_count": 31,
   "id": "8ad2a72b-4bf6-4b36-b805-dbc865a7297c",
   "metadata": {},
   "outputs": [
    {
     "data": {
      "text/plain": [
       "10"
      ]
     },
     "execution_count": 31,
     "metadata": {},
     "output_type": "execute_result"
    }
   ],
   "source": [
    "# 피보나치 수열\n",
    "\n",
    "def fibo(n):\n",
    "    if n<=0:\n",
    "        return 0\n",
    "    else:\n",
    "        return fibo(n-1)+n\n",
    "\n",
    "\n",
    "fibo(4)"
   ]
  },
  {
   "cell_type": "code",
   "execution_count": 33,
   "id": "d5ec4662-21f7-4626-bd6a-80d5513a209f",
   "metadata": {},
   "outputs": [
    {
     "data": {
      "text/plain": [
       "21"
      ]
     },
     "execution_count": 33,
     "metadata": {},
     "output_type": "execute_result"
    }
   ],
   "source": [
    "def fibo(n):\n",
    "    result = 0\n",
    "\n",
    "    while n >0:\n",
    "        result=result+n\n",
    "        n=n-1\n",
    "\n",
    "\n",
    "    return result\n",
    "\n",
    "\n",
    "fibo(6)"
   ]
  },
  {
   "cell_type": "code",
   "execution_count": null,
   "id": "80511b6a-d9d7-4a08-9046-45e70ca42a08",
   "metadata": {},
   "outputs": [],
   "source": []
  },
  {
   "cell_type": "code",
   "execution_count": null,
   "id": "379bf337-dc69-48e7-b102-a1ccbc67a2cb",
   "metadata": {},
   "outputs": [],
   "source": []
  },
  {
   "cell_type": "code",
   "execution_count": null,
   "id": "d07b8335-65a5-442d-8368-91d840faa6d1",
   "metadata": {},
   "outputs": [],
   "source": []
  },
  {
   "cell_type": "code",
   "execution_count": null,
   "id": "acfdacf3-ad19-4e98-8a0f-67425ed75a6f",
   "metadata": {},
   "outputs": [],
   "source": []
  },
  {
   "cell_type": "code",
   "execution_count": null,
   "id": "9abf2ed2-6539-4e0c-ace4-4277913f07fe",
   "metadata": {},
   "outputs": [],
   "source": []
  },
  {
   "cell_type": "code",
   "execution_count": null,
   "id": "08cf5536-ad33-40e4-be0e-482d8d6d9787",
   "metadata": {},
   "outputs": [],
   "source": []
  },
  {
   "cell_type": "code",
   "execution_count": null,
   "id": "3bcc43bb-10bd-4728-8ca7-4826cb6389a9",
   "metadata": {},
   "outputs": [],
   "source": []
  },
  {
   "cell_type": "code",
   "execution_count": null,
   "id": "500f9ed0-0c1c-45b0-b183-d9a991eed3e1",
   "metadata": {},
   "outputs": [],
   "source": []
  },
  {
   "cell_type": "code",
   "execution_count": null,
   "id": "5d2f54c0-c1cb-4836-be24-26d131a8dddd",
   "metadata": {},
   "outputs": [],
   "source": []
  },
  {
   "cell_type": "code",
   "execution_count": null,
   "id": "2a662768-09b2-4dfb-9b8d-3bb83e978371",
   "metadata": {},
   "outputs": [],
   "source": []
  },
  {
   "cell_type": "code",
   "execution_count": null,
   "id": "2292df70-37ec-46cd-a66c-5a9f5a5efd0e",
   "metadata": {},
   "outputs": [],
   "source": []
  },
  {
   "cell_type": "code",
   "execution_count": null,
   "id": "b9294365-c79f-4db5-88ff-25456897d1b1",
   "metadata": {},
   "outputs": [],
   "source": []
  },
  {
   "cell_type": "code",
   "execution_count": null,
   "id": "d2effe51-49a9-4135-a1d9-77457a1397de",
   "metadata": {},
   "outputs": [],
   "source": []
  },
  {
   "cell_type": "code",
   "execution_count": null,
   "id": "28ece0c0-7e3c-4dac-811e-f9376804b4a2",
   "metadata": {},
   "outputs": [],
   "source": []
  },
  {
   "cell_type": "code",
   "execution_count": null,
   "id": "4ee382f7-df5c-4e55-a915-200f634d988b",
   "metadata": {},
   "outputs": [],
   "source": []
  },
  {
   "cell_type": "code",
   "execution_count": null,
   "id": "7512213c-0d45-4e5e-9a33-f08f75bb5b09",
   "metadata": {},
   "outputs": [],
   "source": []
  }
 ],
 "metadata": {
  "kernelspec": {
   "display_name": "Python 3 (ipykernel)",
   "language": "python",
   "name": "python3"
  },
  "language_info": {
   "codemirror_mode": {
    "name": "ipython",
    "version": 3
   },
   "file_extension": ".py",
   "mimetype": "text/x-python",
   "name": "python",
   "nbconvert_exporter": "python",
   "pygments_lexer": "ipython3",
   "version": "3.11.4"
  }
 },
 "nbformat": 4,
 "nbformat_minor": 5
}
