{
 "cells": [
  {
   "cell_type": "markdown",
   "id": "d078e410-0c5d-4b81-b992-322da1f369e7",
   "metadata": {},
   "source": [
    "## 함수 선언과 흐름\n",
    "\n",
    "```python\n",
    "def func_name(parameter1,parameter2...):\n",
    "    code1\n",
    "    code2\n",
    "    ...\n",
    "    return value    \n",
    "```"
   ]
  },
  {
   "cell_type": "code",
   "execution_count": 6,
   "id": "eb6a950e-5c3e-4c67-a95a-68a5a0be71e4",
   "metadata": {},
   "outputs": [],
   "source": [
    "def rectangle(height, width):\n",
    "    area = height*width\n",
    "    perimeter = (height + width)*2\n",
    "    print(f'직사각형의 둘레는 {perimeter}, 면적은 {area}입니다.')"
   ]
  },
  {
   "cell_type": "code",
   "execution_count": 7,
   "id": "80638dab-1131-47fd-a1dc-efbbe36dce62",
   "metadata": {},
   "outputs": [
    {
     "name": "stdout",
     "output_type": "stream",
     "text": [
      "직사각형의 둘레는 60, 면적은 200입니다.\n"
     ]
    }
   ],
   "source": [
    "rectangle(10,20)"
   ]
  },
  {
   "cell_type": "code",
   "execution_count": 11,
   "id": "a587168e-a60e-4b0f-93d4-e6a8c4ab025a",
   "metadata": {},
   "outputs": [],
   "source": [
    "def my_max(num1,num2):\n",
    "    if num1> num2 :\n",
    "        print(num1)\n",
    "    else:\n",
    "        print(num2)\n",
    "    "
   ]
  },
  {
   "cell_type": "code",
   "execution_count": 12,
   "id": "752c90ec-e0a5-4a2c-87f8-d6c4343f88d2",
   "metadata": {},
   "outputs": [
    {
     "name": "stdout",
     "output_type": "stream",
     "text": [
      "7\n"
     ]
    }
   ],
   "source": [
    "my_max(5,7)"
   ]
  },
  {
   "cell_type": "code",
   "execution_count": null,
   "id": "e30ef0ba-0c9e-424b-ab08-29289852ded6",
   "metadata": {},
   "outputs": [],
   "source": []
  },
  {
   "cell_type": "code",
   "execution_count": null,
   "id": "953dea2a-8602-4c82-90ff-170164bf3f80",
   "metadata": {},
   "outputs": [],
   "source": []
  },
  {
   "cell_type": "code",
   "execution_count": null,
   "id": "9a1f2959-ae89-4853-8924-50ad7ac17dc3",
   "metadata": {},
   "outputs": [],
   "source": []
  },
  {
   "cell_type": "code",
   "execution_count": null,
   "id": "632d850b-6fe8-447f-9cd6-2e3e1fb8696a",
   "metadata": {},
   "outputs": [],
   "source": []
  },
  {
   "cell_type": "code",
   "execution_count": null,
   "id": "e45d7830-295e-447a-ac61-0fad9b056ab5",
   "metadata": {},
   "outputs": [],
   "source": []
  },
  {
   "cell_type": "code",
   "execution_count": null,
   "id": "4f2a58a0-6726-474d-a0eb-5e91c3822e93",
   "metadata": {},
   "outputs": [],
   "source": []
  },
  {
   "cell_type": "code",
   "execution_count": null,
   "id": "3bcc43bb-10bd-4728-8ca7-4826cb6389a9",
   "metadata": {},
   "outputs": [],
   "source": []
  },
  {
   "cell_type": "code",
   "execution_count": null,
   "id": "500f9ed0-0c1c-45b0-b183-d9a991eed3e1",
   "metadata": {},
   "outputs": [],
   "source": []
  },
  {
   "cell_type": "code",
   "execution_count": null,
   "id": "5d2f54c0-c1cb-4836-be24-26d131a8dddd",
   "metadata": {},
   "outputs": [],
   "source": []
  },
  {
   "cell_type": "code",
   "execution_count": null,
   "id": "2a662768-09b2-4dfb-9b8d-3bb83e978371",
   "metadata": {},
   "outputs": [],
   "source": []
  },
  {
   "cell_type": "code",
   "execution_count": null,
   "id": "2292df70-37ec-46cd-a66c-5a9f5a5efd0e",
   "metadata": {},
   "outputs": [],
   "source": []
  },
  {
   "cell_type": "code",
   "execution_count": null,
   "id": "b9294365-c79f-4db5-88ff-25456897d1b1",
   "metadata": {},
   "outputs": [],
   "source": []
  },
  {
   "cell_type": "code",
   "execution_count": null,
   "id": "d2effe51-49a9-4135-a1d9-77457a1397de",
   "metadata": {},
   "outputs": [],
   "source": []
  },
  {
   "cell_type": "code",
   "execution_count": null,
   "id": "28ece0c0-7e3c-4dac-811e-f9376804b4a2",
   "metadata": {},
   "outputs": [],
   "source": []
  },
  {
   "cell_type": "code",
   "execution_count": null,
   "id": "4ee382f7-df5c-4e55-a915-200f634d988b",
   "metadata": {},
   "outputs": [],
   "source": []
  },
  {
   "cell_type": "code",
   "execution_count": null,
   "id": "7512213c-0d45-4e5e-9a33-f08f75bb5b09",
   "metadata": {},
   "outputs": [],
   "source": []
  }
 ],
 "metadata": {
  "kernelspec": {
   "display_name": "Python 3 (ipykernel)",
   "language": "python",
   "name": "python3"
  },
  "language_info": {
   "codemirror_mode": {
    "name": "ipython",
    "version": 3
   },
   "file_extension": ".py",
   "mimetype": "text/x-python",
   "name": "python",
   "nbconvert_exporter": "python",
   "pygments_lexer": "ipython3",
   "version": "3.11.4"
  }
 },
 "nbformat": 4,
 "nbformat_minor": 5
}
