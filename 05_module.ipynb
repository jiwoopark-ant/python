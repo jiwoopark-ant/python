{
 "cells": [
  {
   "cell_type": "markdown",
   "id": "c89d8b2b-6b0b-483c-b543-eb972cdf249b",
   "metadata": {},
   "source": [
    "# 1. 모듈"
   ]
  },
  {
   "cell_type": "code",
   "execution_count": 1,
   "id": "4a9f7991-7a1c-48d1-8ae1-c791845d55af",
   "metadata": {},
   "outputs": [],
   "source": [
    "import fibo"
   ]
  },
  {
   "cell_type": "code",
   "execution_count": 2,
   "id": "26936fe4-476e-4f65-9e33-b454ece2f6cb",
   "metadata": {},
   "outputs": [
    {
     "name": "stdout",
     "output_type": "stream",
     "text": [
      "<module 'fibo' from 'C:\\\\Users\\\\dndjf\\\\OneDrive\\\\바탕 화면\\\\camp29\\\\python\\\\fibo.py'>\n"
     ]
    }
   ],
   "source": [
    "print(fibo)"
   ]
  },
  {
   "cell_type": "code",
   "execution_count": 3,
   "id": "954b22e9-bf09-4101-91d6-523cfb74b85c",
   "metadata": {},
   "outputs": [
    {
     "data": {
      "text/plain": [
       "5"
      ]
     },
     "execution_count": 3,
     "metadata": {},
     "output_type": "execute_result"
    }
   ],
   "source": [
    "fibo.fib_loop(4)"
   ]
  },
  {
   "cell_type": "code",
   "execution_count": null,
   "id": "457e2d8d-ba03-43cc-87ce-7de0b830fcfe",
   "metadata": {},
   "outputs": [],
   "source": []
  },
  {
   "cell_type": "markdown",
   "id": "655df4ef-79c2-4171-b622-33f30bbce566",
   "metadata": {},
   "source": [
    "# 2.패키지\n",
    "\n",
    "```\n",
    "myPackage/\n",
    "      __init__.py\n",
    "      math/\n",
    "           __init__.py\n",
    "             fibo.py\n",
    "             formula.py\n",
    "```"
   ]
  },
  {
   "cell_type": "code",
   "execution_count": 4,
   "id": "7b5819d2-f2d4-4115-98ec-e979f3815b5c",
   "metadata": {},
   "outputs": [],
   "source": [
    "#패키지 폴더를 전체 추가\n",
    "import myPackage"
   ]
  },
  {
   "cell_type": "code",
   "execution_count": 5,
   "id": "4c673e6f-24ef-4c1f-9fc7-16865121d144",
   "metadata": {},
   "outputs": [
    {
     "name": "stdout",
     "output_type": "stream",
     "text": [
      "<module 'myPackage' from 'C:\\\\Users\\\\dndjf\\\\OneDrive\\\\바탕 화면\\\\camp29\\\\python\\\\myPackage\\\\__init__.py'>\n"
     ]
    }
   ],
   "source": [
    "print(myPackage)"
   ]
  },
  {
   "cell_type": "code",
   "execution_count": 7,
   "id": "9bdc783a-d259-4f22-a309-fb9702d68399",
   "metadata": {},
   "outputs": [],
   "source": [
    "from myPackage.math import formula"
   ]
  },
  {
   "cell_type": "code",
   "execution_count": 8,
   "id": "fac534a7-c27b-40a4-b5aa-705f21e4c0f9",
   "metadata": {},
   "outputs": [
    {
     "data": {
      "text/plain": [
       "3.14"
      ]
     },
     "execution_count": 8,
     "metadata": {},
     "output_type": "execute_result"
    }
   ],
   "source": [
    "formula.pi"
   ]
  },
  {
   "cell_type": "code",
   "execution_count": 9,
   "id": "228eb601-76ca-46e3-8292-80eb72ed9ee5",
   "metadata": {},
   "outputs": [
    {
     "data": {
      "text/plain": [
       "2"
      ]
     },
     "execution_count": 9,
     "metadata": {},
     "output_type": "execute_result"
    }
   ],
   "source": [
    "formula.my_max(1,2)"
   ]
  },
  {
   "cell_type": "code",
   "execution_count": 10,
   "id": "df9c912d-d868-46b8-bfe4-10ac7ad2b0ef",
   "metadata": {},
   "outputs": [],
   "source": [
    "# 경로에 있는 ㅁ ㅗ듈이 가지고 있는 모든 변수, 함수를 추가\n",
    "from myPackage.math.fibo import  *"
   ]
  },
  {
   "cell_type": "code",
   "execution_count": 11,
   "id": "c60b8f00-729d-4152-9bc0-07befe7a4784",
   "metadata": {},
   "outputs": [
    {
     "data": {
      "text/plain": [
       "89"
      ]
     },
     "execution_count": 11,
     "metadata": {},
     "output_type": "execute_result"
    }
   ],
   "source": [
    "fib_loop(10)"
   ]
  },
  {
   "cell_type": "code",
   "execution_count": 13,
   "id": "4afda916-01b4-4bb3-b83e-423f6ac4d725",
   "metadata": {},
   "outputs": [
    {
     "name": "stdout",
     "output_type": "stream",
     "text": [
      "1234\n"
     ]
    }
   ],
   "source": [
    "formula=1234\n",
    "\n",
    "from myPackage.math import formula as f\n",
    "\n",
    "print(formula)"
   ]
  },
  {
   "cell_type": "markdown",
   "id": "cb8b0b69-ad92-4d5e-9431-7ded5db5713b",
   "metadata": {},
   "source": [
    "# 3.파이썬 내장 패키지\n",
    "\n",
    "# 3.1 math"
   ]
  },
  {
   "cell_type": "code",
   "execution_count": 14,
   "id": "0fb4ef2f-47c4-4d6b-962c-ecc4cbe24385",
   "metadata": {},
   "outputs": [],
   "source": [
    "import math"
   ]
  },
  {
   "cell_type": "code",
   "execution_count": 15,
   "id": "3b4902a5-646e-4037-b6be-335288432ed0",
   "metadata": {},
   "outputs": [
    {
     "data": {
      "text/plain": [
       "3.141592653589793"
      ]
     },
     "execution_count": 15,
     "metadata": {},
     "output_type": "execute_result"
    }
   ],
   "source": [
    "math.pi"
   ]
  },
  {
   "cell_type": "code",
   "execution_count": 16,
   "id": "74704d57-e8d4-4e52-b66d-11406ef9c29f",
   "metadata": {},
   "outputs": [
    {
     "data": {
      "text/plain": [
       "2.718281828459045"
      ]
     },
     "execution_count": 16,
     "metadata": {},
     "output_type": "execute_result"
    }
   ],
   "source": [
    "math.e"
   ]
  },
  {
   "cell_type": "code",
   "execution_count": 20,
   "id": "341d0a21-5e6d-42a3-99f7-ce6d3d1ee6d8",
   "metadata": {},
   "outputs": [],
   "source": [
    "pi =3.141592"
   ]
  },
  {
   "cell_type": "code",
   "execution_count": 21,
   "id": "6c155ed0-9d5a-4911-b718-b1c7a278203d",
   "metadata": {},
   "outputs": [
    {
     "data": {
      "text/plain": [
       "4"
      ]
     },
     "execution_count": 21,
     "metadata": {},
     "output_type": "execute_result"
    }
   ],
   "source": [
    "math.ceil(pi)"
   ]
  },
  {
   "cell_type": "markdown",
   "id": "7a9d4378-63f5-46ba-9937-53b3f4200ce9",
   "metadata": {},
   "source": [
    "# 3.2 random"
   ]
  },
  {
   "cell_type": "code",
   "execution_count": 23,
   "id": "db523e83-1172-4f67-a795-dca58b4a56d3",
   "metadata": {},
   "outputs": [],
   "source": [
    "import random"
   ]
  },
  {
   "cell_type": "code",
   "execution_count": 24,
   "id": "b02348ae-dc5b-4cbd-86ce-4d1e2d8900e6",
   "metadata": {},
   "outputs": [
    {
     "data": {
      "text/plain": [
       "0.35554372060411643"
      ]
     },
     "execution_count": 24,
     "metadata": {},
     "output_type": "execute_result"
    }
   ],
   "source": [
    "random.random()"
   ]
  },
  {
   "cell_type": "code",
   "execution_count": 25,
   "id": "f4477d36-bffb-49a1-8022-cf90c0c5d0ea",
   "metadata": {},
   "outputs": [
    {
     "data": {
      "text/plain": [
       "9"
      ]
     },
     "execution_count": 25,
     "metadata": {},
     "output_type": "execute_result"
    }
   ],
   "source": [
    "random.randint(1,10)"
   ]
  },
  {
   "cell_type": "code",
   "execution_count": 26,
   "id": "8492f0a3-3284-4ffc-bf1c-ca4bf7ea7583",
   "metadata": {},
   "outputs": [
    {
     "data": {
      "text/plain": [
       "0.13436424411240122"
      ]
     },
     "execution_count": 26,
     "metadata": {},
     "output_type": "execute_result"
    }
   ],
   "source": [
    "random.seed(1)\n",
    "\n",
    "random.random()"
   ]
  },
  {
   "cell_type": "code",
   "execution_count": 27,
   "id": "1511bad0-e222-4388-83ff-24f3f3f2bb37",
   "metadata": {},
   "outputs": [
    {
     "name": "stdout",
     "output_type": "stream",
     "text": [
      "[4, 2, 5, 3, 1]\n"
     ]
    }
   ],
   "source": [
    "# shuffle\n",
    "a=[1,2,3,4,5]\n",
    "random.shuffle(a)\n",
    "print(a)"
   ]
  },
  {
   "cell_type": "code",
   "execution_count": null,
   "id": "16ab41a4-f7dd-4b29-892a-5c4ff0446251",
   "metadata": {},
   "outputs": [],
   "source": [
    "# choice"
   ]
  },
  {
   "cell_type": "code",
   "execution_count": 28,
   "id": "4d641616-3d35-4c9f-ab1c-bffdb917da3a",
   "metadata": {},
   "outputs": [
    {
     "data": {
      "text/plain": [
       "[29, 31, 42, 25, 14, 7, 32]"
      ]
     },
     "execution_count": 28,
     "metadata": {},
     "output_type": "execute_result"
    }
   ],
   "source": [
    "#sample\n",
    "a=range(1,46)\n",
    "random.sample(a,7)"
   ]
  },
  {
   "cell_type": "markdown",
   "id": "b8f2d9f0-c1cd-44ac-a972-18830ac10d52",
   "metadata": {},
   "source": [
    "# 3.3 datetime"
   ]
  },
  {
   "cell_type": "code",
   "execution_count": 29,
   "id": "048b10c7-02ea-45b0-8102-42e0850bd562",
   "metadata": {},
   "outputs": [],
   "source": [
    "from datetime import datetime"
   ]
  },
  {
   "cell_type": "code",
   "execution_count": 31,
   "id": "be9e3607-cf8e-4cd9-819d-aa59b7d75d9e",
   "metadata": {},
   "outputs": [
    {
     "name": "stdout",
     "output_type": "stream",
     "text": [
      "2023-07-31 16:21:19.770498\n"
     ]
    }
   ],
   "source": [
    "now=datetime.now()\n",
    "\n",
    "print(now)"
   ]
  },
  {
   "cell_type": "code",
   "execution_count": 32,
   "id": "22eff25f-0a3a-45fe-b044-6136e0a61e3f",
   "metadata": {},
   "outputs": [
    {
     "name": "stdout",
     "output_type": "stream",
     "text": [
      "2023-07-31 16:21:46.816298\n"
     ]
    }
   ],
   "source": [
    "today=datetime.today()\n",
    "\n",
    "print(today)"
   ]
  },
  {
   "cell_type": "code",
   "execution_count": null,
   "id": "4c0ecf99-72a5-4555-b25e-15efeccccc0e",
   "metadata": {},
   "outputs": [],
   "source": []
  },
  {
   "cell_type": "code",
   "execution_count": null,
   "id": "03f2fd4f-7728-4215-9f22-3d89d9737545",
   "metadata": {},
   "outputs": [],
   "source": []
  }
 ],
 "metadata": {
  "kernelspec": {
   "display_name": "Python 3 (ipykernel)",
   "language": "python",
   "name": "python3"
  },
  "language_info": {
   "codemirror_mode": {
    "name": "ipython",
    "version": 3
   },
   "file_extension": ".py",
   "mimetype": "text/x-python",
   "name": "python",
   "nbconvert_exporter": "python",
   "pygments_lexer": "ipython3",
   "version": "3.11.4"
  }
 },
 "nbformat": 4,
 "nbformat_minor": 5
}
