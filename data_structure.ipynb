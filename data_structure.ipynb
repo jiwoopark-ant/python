{
 "cells": [
  {
   "cell_type": "markdown",
   "id": "9f482977-801e-4931-90eb-359dd0151cb8",
   "metadata": {},
   "source": [
    "# 문자열  메소드`"
   ]
  },
  {
   "cell_type": "code",
   "execution_count": 1,
   "id": "ba00916c-ae06-4e15-a3b5-56545233b64a",
   "metadata": {},
   "outputs": [],
   "source": [
    "a='hello'\n"
   ]
  },
  {
   "cell_type": "code",
   "execution_count": 4,
   "id": "5d04d5e0-0a4b-4f4e-995c-1d8d469cbf08",
   "metadata": {},
   "outputs": [],
   "source": [
    "a=a.capitalize()"
   ]
  },
  {
   "cell_type": "code",
   "execution_count": 6,
   "id": "2173b7dc-bcfb-414e-969d-9bcd87b16fa8",
   "metadata": {},
   "outputs": [
    {
     "name": "stdout",
     "output_type": "stream",
     "text": [
      "Hello\n"
     ]
    }
   ],
   "source": [
    "print(a)"
   ]
  },
  {
   "cell_type": "code",
   "execution_count": 8,
   "id": "45b33fa6-0eec-4291-90a3-dbb05d245b84",
   "metadata": {},
   "outputs": [
    {
     "data": {
      "text/plain": [
       "'HELLO'"
      ]
     },
     "execution_count": 8,
     "metadata": {},
     "output_type": "execute_result"
    }
   ],
   "source": [
    "a.upper()"
   ]
  },
  {
   "cell_type": "code",
   "execution_count": 10,
   "id": "3006fb54-5d71-4c34-bb28-a890bb2abcc6",
   "metadata": {},
   "outputs": [
    {
     "data": {
      "text/plain": [
       "'hi, my, name'"
      ]
     },
     "execution_count": 10,
     "metadata": {},
     "output_type": "execute_result"
    }
   ],
   "source": [
    "# ''.join(my_list)\n",
    "my_list=['hi',  'my'  , 'name']\n",
    "\n",
    "', '.join(my_list)\n"
   ]
  },
  {
   "cell_type": "code",
   "execution_count": 11,
   "id": "acb24baf-db60-4143-9d6b-409dfb8392fd",
   "metadata": {},
   "outputs": [
    {
     "data": {
      "text/plain": [
       "'iooooi'"
      ]
     },
     "execution_count": 11,
     "metadata": {},
     "output_type": "execute_result"
    }
   ],
   "source": [
    "# .replace(old,new[,ciunt])\n",
    "\n",
    "'woooow'.replace('w','i')"
   ]
  },
  {
   "cell_type": "code",
   "execution_count": null,
   "id": "19602af3-e37e-4471-88f8-9d4fe198e756",
   "metadata": {},
   "outputs": [],
   "source": [
    "# strip"
   ]
  },
  {
   "cell_type": "code",
   "execution_count": 16,
   "id": "3f009ef5-e6d5-40a0-9186-16fb4a2b4267",
   "metadata": {},
   "outputs": [
    {
     "name": "stdout",
     "output_type": "stream",
     "text": [
      "1\n",
      "-1\n"
     ]
    }
   ],
   "source": [
    "#.find(X)\n",
    "\n",
    "a='apple'\n",
    "\n",
    "print(a.find('p'))\n",
    "print(a.find('z'))"
   ]
  },
  {
   "cell_type": "code",
   "execution_count": 17,
   "id": "ad53543a-05fc-43b8-8ede-74dc359ac2ef",
   "metadata": {},
   "outputs": [
    {
     "name": "stdout",
     "output_type": "stream",
     "text": [
      "1\n"
     ]
    },
    {
     "ename": "ValueError",
     "evalue": "substring not found",
     "output_type": "error",
     "traceback": [
      "\u001b[1;31m---------------------------------------------------------------------------\u001b[0m",
      "\u001b[1;31mValueError\u001b[0m                                Traceback (most recent call last)",
      "Cell \u001b[1;32mIn[17], line 4\u001b[0m\n\u001b[0;32m      1\u001b[0m \u001b[38;5;66;03m#.index(x)\u001b[39;00m\n\u001b[0;32m      3\u001b[0m \u001b[38;5;28mprint\u001b[39m(a\u001b[38;5;241m.\u001b[39mindex(\u001b[38;5;124m'\u001b[39m\u001b[38;5;124mp\u001b[39m\u001b[38;5;124m'\u001b[39m))\n\u001b[1;32m----> 4\u001b[0m \u001b[38;5;28mprint\u001b[39m(\u001b[43ma\u001b[49m\u001b[38;5;241;43m.\u001b[39;49m\u001b[43mindex\u001b[49m\u001b[43m(\u001b[49m\u001b[38;5;124;43m'\u001b[39;49m\u001b[38;5;124;43mz\u001b[39;49m\u001b[38;5;124;43m'\u001b[39;49m\u001b[43m)\u001b[49m)\n",
      "\u001b[1;31mValueError\u001b[0m: substring not found"
     ]
    }
   ],
   "source": [
    "#.index(x)\n",
    "\n",
    "print(a.index('p'))\n",
    "print(a.index('z'))"
   ]
  },
  {
   "cell_type": "code",
   "execution_count": 18,
   "id": "8b0b1aab-7104-4368-9c1c-23e4af776948",
   "metadata": {},
   "outputs": [
    {
     "name": "stdout",
     "output_type": "stream",
     "text": [
      "1\n",
      "2\n"
     ]
    }
   ],
   "source": [
    "for  i in range(len(a)):\n",
    "    if  'p'==a[i]:\n",
    "        print(i)"
   ]
  },
  {
   "cell_type": "code",
   "execution_count": 20,
   "id": "22c27f5a-5b6f-47c3-be97-d6561d18e3f3",
   "metadata": {},
   "outputs": [
    {
     "data": {
      "text/plain": [
       "['my', 'name', 'is', 'jiwoo']"
      ]
     },
     "execution_count": 20,
     "metadata": {},
     "output_type": "execute_result"
    }
   ],
   "source": [
    "#.split(x)\n",
    "a='my name is jiwoo'\n",
    "a.split()"
   ]
  },
  {
   "cell_type": "code",
   "execution_count": 21,
   "id": "20112096-9ffe-467c-b38b-265e5c81a685",
   "metadata": {},
   "outputs": [
    {
     "data": {
      "text/plain": [
       "5"
      ]
     },
     "execution_count": 21,
     "metadata": {},
     "output_type": "execute_result"
    }
   ],
   "source": [
    "#.count()\n",
    "\n",
    "'wooooo'.count('o')"
   ]
  },
  {
   "cell_type": "markdown",
   "id": "ed8c1fd8-b43b-4304-8e78-619a6ad20d55",
   "metadata": {},
   "source": [
    "# 리스트 메소드"
   ]
  },
  {
   "cell_type": "code",
   "execution_count": 23,
   "id": "ad3836bd-f8ac-403f-8288-b94297f843b8",
   "metadata": {},
   "outputs": [],
   "source": [
    "numbers=[1,2,3,4,5,6,2,3,4,5,7,7]"
   ]
  },
  {
   "cell_type": "code",
   "execution_count": 24,
   "id": "a7494179-d9c1-4f43-a656-1c580a334cfe",
   "metadata": {},
   "outputs": [],
   "source": [
    "#.append()"
   ]
  },
  {
   "cell_type": "code",
   "execution_count": 25,
   "id": "33c5d5a4-c182-44ec-870f-090272fd58f6",
   "metadata": {},
   "outputs": [
    {
     "name": "stdout",
     "output_type": "stream",
     "text": [
      "[1, 2, 3, 4, 5, 6, 2, 3, 4, 5, 7, 7, 99, 100]\n"
     ]
    }
   ],
   "source": [
    "#.extend()\n",
    "a=[99,100]\n",
    "numbers.extend(a)\n",
    "print(numbers)"
   ]
  },
  {
   "cell_type": "code",
   "execution_count": 26,
   "id": "7d3e7bd3-fe8c-4971-897b-2c6c57790d8a",
   "metadata": {},
   "outputs": [],
   "source": [
    "# .insert(idx,x)\n",
    "\n",
    "numbers.insert"
   ]
  },
  {
   "cell_type": "code",
   "execution_count": 27,
   "id": "0f6bd21c-ae9f-468b-aa9c-1aab2a033488",
   "metadata": {},
   "outputs": [
    {
     "name": "stdout",
     "output_type": "stream",
     "text": [
      "[1, 2, 3, 3.5, 4, 5, 6, 2, 3, 4, 5, 7, 7, 99, 100]\n"
     ]
    }
   ],
   "source": [
    "print(numbers)"
   ]
  },
  {
   "cell_type": "code",
   "execution_count": 28,
   "id": "35746bbb-afb5-435e-94d8-472f27703c4a",
   "metadata": {},
   "outputs": [],
   "source": [
    "#.remove()"
   ]
  },
  {
   "cell_type": "code",
   "execution_count": null,
   "id": "85bbbf3d-5176-485d-a462-567dd04ae725",
   "metadata": {},
   "outputs": [],
   "source": [
    "#.pop([idx])"
   ]
  },
  {
   "cell_type": "code",
   "execution_count": 30,
   "id": "d629fb47-94eb-4859-b126-7df2dd896512",
   "metadata": {},
   "outputs": [
    {
     "name": "stdout",
     "output_type": "stream",
     "text": [
      "[99, 100]\n"
     ]
    }
   ],
   "source": [
    "#.sort()\n",
    "numbers.sort()\n",
    "print(a)"
   ]
  },
  {
   "cell_type": "code",
   "execution_count": 31,
   "id": "f73bca8c-d53c-464c-a7cd-910965d77cb5",
   "metadata": {},
   "outputs": [
    {
     "name": "stdout",
     "output_type": "stream",
     "text": [
      "[100, 99, 7, 7, 6, 5, 5, 4, 4, 3.5, 3, 3, 2, 2, 1]\n"
     ]
    }
   ],
   "source": [
    "numbers.sort(reverse= True)\n",
    "print(numbers)"
   ]
  },
  {
   "cell_type": "code",
   "execution_count": 34,
   "id": "023b5982-6499-4b90-a2ef-727d9cec3ce2",
   "metadata": {},
   "outputs": [
    {
     "name": "stdout",
     "output_type": "stream",
     "text": [
      "[1, 2, 2, 3, 3, 3.5, 4, 4, 5, 5, 6, 7, 7, 99, 100]\n",
      "[100, 99, 7, 7, 6, 5, 5, 4, 4, 3.5, 3, 3, 2, 2, 1]\n"
     ]
    },
    {
     "data": {
      "text/plain": [
       "[1, 2, 2, 3, 3, 3.5, 4, 4, 5, 5, 6, 7, 7, 99, 100]"
      ]
     },
     "execution_count": 34,
     "metadata": {},
     "output_type": "execute_result"
    }
   ],
   "source": [
    "#.reverse()\n",
    "\n",
    "print(numbers)\n",
    "numbers.reverse()\n",
    "print(numbers)\n",
    "numbers[::-1]"
   ]
  },
  {
   "cell_type": "markdown",
   "id": "c22c9f20-c495-41e1-a707-f08de87b8a40",
   "metadata": {},
   "source": [
    "# 2.1  list copy"
   ]
  },
  {
   "cell_type": "code",
   "execution_count": 37,
   "id": "91b3ebaf-8e58-41e6-8797-efcecf26f9d1",
   "metadata": {},
   "outputs": [],
   "source": [
    "original=[1,2,3]\n",
    "copy=original"
   ]
  },
  {
   "cell_type": "code",
   "execution_count": 38,
   "id": "c83c4f7a-e9aa-4e37-a3ef-9a49884096bd",
   "metadata": {},
   "outputs": [
    {
     "data": {
      "text/plain": [
       "1"
      ]
     },
     "execution_count": 38,
     "metadata": {},
     "output_type": "execute_result"
    }
   ],
   "source": [
    "copy[0]"
   ]
  },
  {
   "cell_type": "code",
   "execution_count": 39,
   "id": "ed367d69-0f5f-4354-a8f8-fc6eeb6a466d",
   "metadata": {},
   "outputs": [
    {
     "name": "stdout",
     "output_type": "stream",
     "text": [
      "[1, 2, 3, 5]\n",
      "[100, 2, 3, 5]\n"
     ]
    }
   ],
   "source": [
    "a=[1,2,3,5]\n",
    "b=a[:]\n",
    "\n",
    "b[0]=100\n",
    "\n",
    "print(a)\n",
    "print(b)"
   ]
  },
  {
   "cell_type": "code",
   "execution_count": 41,
   "id": "9ec1c394-0bb2-48cf-aed7-23a184a6b313",
   "metadata": {},
   "outputs": [
    {
     "name": "stdout",
     "output_type": "stream",
     "text": [
      "[1, 2, 3, 5]\n"
     ]
    }
   ],
   "source": [
    "b=list(a)\n",
    "print(b)"
   ]
  },
  {
   "cell_type": "code",
   "execution_count": 42,
   "id": "74fae1b6-5a89-4ce5-ab2f-d30695b4624e",
   "metadata": {},
   "outputs": [
    {
     "name": "stdout",
     "output_type": "stream",
     "text": [
      "[1, 2, [100, 4]]\n",
      "[1, 2, [100, 4]]\n"
     ]
    }
   ],
   "source": [
    "a=[1,2,[3,4]]\n",
    "b=a[:]\n",
    "\n",
    "b[2][0] =100\n",
    "\n",
    "print(a)\n",
    "print(b)"
   ]
  },
  {
   "cell_type": "code",
   "execution_count": 44,
   "id": "501c798b-e10e-4d8a-88e1-b1c1baf990c8",
   "metadata": {},
   "outputs": [
    {
     "name": "stdout",
     "output_type": "stream",
     "text": [
      "[1, 2, [3, 4]]\n",
      "[1, 2, [100, 4]]\n"
     ]
    }
   ],
   "source": [
    "import copy\n",
    "\n",
    "a=[1,2,[3,4]]\n",
    "b=copy.deepcopy(a)\n",
    "b[2][0]=100\n",
    "print(a)\n",
    "print(b)"
   ]
  },
  {
   "cell_type": "markdown",
   "id": "8510e959-470f-46cb-915b-32f2ea57b657",
   "metadata": {},
   "source": [
    "#  2.2 list  comprehension"
   ]
  },
  {
   "cell_type": "code",
   "execution_count": 45,
   "id": "39711df6-0a65-4c2b-8c03-e2022a9e8572",
   "metadata": {},
   "outputs": [
    {
     "name": "stdout",
     "output_type": "stream",
     "text": [
      "[1, 2, 3, 4, 5, 6, 7, 8, 9, 10]\n"
     ]
    }
   ],
   "source": [
    "numbers=list(range(1,11))\n",
    "print(numbers)"
   ]
  },
  {
   "cell_type": "code",
   "execution_count": 53,
   "id": "bf882c64-a554-4b7a-8ab7-b5ad7116f3c6",
   "metadata": {},
   "outputs": [
    {
     "name": "stdout",
     "output_type": "stream",
     "text": [
      "[1, 8, 27, 64, 125, 216, 343, 512, 729, 1000]\n"
     ]
    }
   ],
   "source": [
    "#[1,8,27,,,,,,]\n",
    "result=[]\n",
    "for i in numbers:\n",
    "    result.append(i**3)\n",
    "\n",
    "print(result)\n"
   ]
  },
  {
   "cell_type": "code",
   "execution_count": null,
   "id": "4b70e356-eb6e-41ec-81ca-8b006cf72d16",
   "metadata": {},
   "outputs": [],
   "source": []
  },
  {
   "cell_type": "code",
   "execution_count": 52,
   "id": "ed015821-f4c5-49fd-8e0a-83b8654ec1a7",
   "metadata": {},
   "outputs": [
    {
     "name": "stdout",
     "output_type": "stream",
     "text": [
      "[1, 8, 27, 64, 125, 216, 343, 512, 729, 1000]\n"
     ]
    }
   ],
   "source": [
    "result2=[i**3 for i in numbers]\n",
    "print(result2)"
   ]
  },
  {
   "cell_type": "code",
   "execution_count": 55,
   "id": "f9d50f74-e2d7-487e-be6d-c519f9e8151a",
   "metadata": {},
   "outputs": [
    {
     "name": "stdout",
     "output_type": "stream",
     "text": [
      "[2, 4, 6, 8, 10]\n"
     ]
    }
   ],
   "source": [
    "# 짝수만 고르기\n",
    "\n",
    "even_list=[]\n",
    "for i in numbers:\n",
    "    if  i %2==0:\n",
    "        even_list.append(i)\n",
    "\n",
    "print(even_list)"
   ]
  },
  {
   "cell_type": "markdown",
   "id": "ffe72b15-c043-422a-a902-55053086eccf",
   "metadata": {},
   "source": []
  },
  {
   "cell_type": "raw",
   "id": "a8619dd0-8c42-45eb-bc71-3edfb98b3303",
   "metadata": {},
   "source": [
    "even_list2-[i for i in numbers if i %2==0]"
   ]
  },
  {
   "cell_type": "code",
   "execution_count": 57,
   "id": "aa71820f-5281-4e53-af40-4feca1cdd271",
   "metadata": {},
   "outputs": [
    {
     "name": "stdout",
     "output_type": "stream",
     "text": [
      "[2, 4, 6, 8, 10]\n"
     ]
    }
   ],
   "source": [
    "even_list2=[i for i in numbers if i %2==0]\n",
    "print(even_list2)"
   ]
  },
  {
   "cell_type": "code",
   "execution_count": 65,
   "id": "9aab4f9d-e348-4133-8f89-452a88104090",
   "metadata": {},
   "outputs": [],
   "source": [
    "words='my name is jiwoo'\n",
    "vowels='aeiou'\n",
    "\n"
   ]
  },
  {
   "cell_type": "code",
   "execution_count": 71,
   "id": "7c3b38b6-cda7-46ff-92c2-2d18f3964847",
   "metadata": {},
   "outputs": [
    {
     "name": "stdout",
     "output_type": "stream",
     "text": [
      "['m', 'y', ' ', 'n', 'm', ' ', 's', ' ', 'j', 'w']\n",
      "my nm s jw\n"
     ]
    }
   ],
   "source": [
    "answer=[]\n",
    "for i in words:\n",
    "    if i not in vowels:\n",
    "        answer.append(i)\n",
    "\n",
    "print(answer)\n",
    "print(''.join(answer))"
   ]
  },
  {
   "cell_type": "code",
   "execution_count": null,
   "id": "ad998f09-4fd1-41f1-acb5-a8f1cdec1a4b",
   "metadata": {},
   "outputs": [],
   "source": []
  },
  {
   "cell_type": "markdown",
   "id": "4dc5372c-e7bf-47a9-b9a4-07f992e4e68b",
   "metadata": {},
   "source": [
    "# 3.딕셔너리  메소드"
   ]
  },
  {
   "cell_type": "code",
   "execution_count": 67,
   "id": "0f7cc7ac-5d0e-43d9-8e43-393a76fe9998",
   "metadata": {},
   "outputs": [],
   "source": [
    "info = {\n",
    "    'name':'jiwoo',\n",
    "    'location':'seoul'\n",
    "}"
   ]
  },
  {
   "cell_type": "code",
   "execution_count": 68,
   "id": "2f8788d9-2763-4c81-bee4-57b7b44e1ae3",
   "metadata": {},
   "outputs": [
    {
     "name": "stdout",
     "output_type": "stream",
     "text": [
      "{'name': 'jiwoo'}\n"
     ]
    }
   ],
   "source": [
    "#pop\n",
    "info.pop('location')\n",
    "print(info)"
   ]
  },
  {
   "cell_type": "code",
   "execution_count": 72,
   "id": "5b554588-1f32-47d1-ad9d-67427177ec40",
   "metadata": {},
   "outputs": [
    {
     "name": "stdout",
     "output_type": "stream",
     "text": [
      "{'name': 'woo'}\n"
     ]
    }
   ],
   "source": [
    "#update\n",
    "\n",
    "info.update(name='woo')\n",
    "print(info)"
   ]
  },
  {
   "cell_type": "code",
   "execution_count": 73,
   "id": "b47a2e33-9d90-4704-ad22-dc960377a3bd",
   "metadata": {},
   "outputs": [
    {
     "name": "stdout",
     "output_type": "stream",
     "text": [
      "woo\n",
      "None\n"
     ]
    }
   ],
   "source": [
    "#.get(key[,default])\n",
    "print(info.get('name'))\n",
    "print(info.get('school'))"
   ]
  },
  {
   "cell_type": "markdown",
   "id": "f69a6844-c562-4056-954e-51ee085011cf",
   "metadata": {},
   "source": [
    "# 3.1 dict comprehension"
   ]
  },
  {
   "cell_type": "code",
   "execution_count": 75,
   "id": "ffe1968e-e61f-4221-ba91-0e091ba6ce06",
   "metadata": {},
   "outputs": [
    {
     "name": "stdout",
     "output_type": "stream",
     "text": [
      "{1: 1, 2: 8, 3: 27}\n"
     ]
    }
   ],
   "source": [
    "{1:3,2:4,3:6}\n",
    "\n",
    "cube_dict={}\n",
    "\n",
    "for i  in range(1,4):\n",
    "    cube_dict[i]=i**3\n",
    "print(cube_dict)"
   ]
  },
  {
   "cell_type": "code",
   "execution_count": 76,
   "id": "5478915c-7080-4f3f-adbc-17d62f2808b0",
   "metadata": {},
   "outputs": [
    {
     "name": "stdout",
     "output_type": "stream",
     "text": [
      "{1: 1, 2: 8, 3: 27}\n"
     ]
    }
   ],
   "source": [
    "cube2={i: i**3 for i in range(1,4)}\n",
    "print(cube2)"
   ]
  },
  {
   "cell_type": "code",
   "execution_count": 77,
   "id": "a2ac6a10-2cfc-44e7-9888-f036482530c0",
   "metadata": {},
   "outputs": [],
   "source": [
    "dust={'서울':300,\n",
    "      '대구':30,\n",
    "      '대전':10,\n",
    "      '부산':200,\n",
    "      '광주':110}"
   ]
  },
  {
   "cell_type": "code",
   "execution_count": 86,
   "id": "0243030e-bb10-4546-83e5-97bb653d3483",
   "metadata": {},
   "outputs": [
    {
     "ename": "TypeError",
     "evalue": "list indices must be integers or slices, not str",
     "output_type": "error",
     "traceback": [
      "\u001b[1;31m---------------------------------------------------------------------------\u001b[0m",
      "\u001b[1;31mTypeError\u001b[0m                                 Traceback (most recent call last)",
      "Cell \u001b[1;32mIn[86], line 4\u001b[0m\n\u001b[0;32m      2\u001b[0m \u001b[38;5;28;01mfor\u001b[39;00m k,v \u001b[38;5;129;01min\u001b[39;00m dust\u001b[38;5;241m.\u001b[39mitems():\n\u001b[0;32m      3\u001b[0m     \u001b[38;5;28;01mif\u001b[39;00m v \u001b[38;5;241m>\u001b[39m \u001b[38;5;241m100\u001b[39m:\n\u001b[1;32m----> 4\u001b[0m         \u001b[43mresult\u001b[49m\u001b[43m[\u001b[49m\u001b[43mk\u001b[49m\u001b[43m]\u001b[49m\u001b[38;5;241m=\u001b[39mv\n\u001b[0;32m      6\u001b[0m \u001b[38;5;28mprint\u001b[39m(result)\n",
      "\u001b[1;31mTypeError\u001b[0m: list indices must be integers or slices, not str"
     ]
    }
   ],
   "source": [
    "result=[]\n",
    "for k,v in dust.items():\n",
    "    if v > 100:\n",
    "        result[k]=v\n",
    "\n",
    "print(result)"
   ]
  },
  {
   "cell_type": "code",
   "execution_count": 85,
   "id": "5a7cf4c0-a826-4bae-8506-5d08b324608f",
   "metadata": {},
   "outputs": [
    {
     "ename": "TypeError",
     "evalue": "int() argument must be a string, a bytes-like object or a real number, not 'builtin_function_or_method'",
     "output_type": "error",
     "traceback": [
      "\u001b[1;31m---------------------------------------------------------------------------\u001b[0m",
      "\u001b[1;31mTypeError\u001b[0m                                 Traceback (most recent call last)",
      "Cell \u001b[1;32mIn[85], line 1\u001b[0m\n\u001b[1;32m----> 1\u001b[0m \u001b[38;5;28;43mint\u001b[39;49m\u001b[43m(\u001b[49m\u001b[43mdust\u001b[49m\u001b[38;5;241;43m.\u001b[39;49m\u001b[43mvalues\u001b[49m\u001b[43m)\u001b[49m\n",
      "\u001b[1;31mTypeError\u001b[0m: int() argument must be a string, a bytes-like object or a real number, not 'builtin_function_or_method'"
     ]
    }
   ],
   "source": [
    "int(dust.values)"
   ]
  },
  {
   "cell_type": "markdown",
   "id": "5794e5fa-4b40-4230-a9ca-11dd80b2713f",
   "metadata": {},
   "source": [
    "# 4. 세트 메소드"
   ]
  },
  {
   "cell_type": "code",
   "execution_count": 92,
   "id": "2806cab5-0b3c-4991-ae2b-de361f0387ad",
   "metadata": {},
   "outputs": [],
   "source": [
    "fruits={'apple','banana','melon'}"
   ]
  },
  {
   "cell_type": "code",
   "execution_count": 89,
   "id": "3b07c7ab-50c9-453c-ad4a-e18cb97b49fd",
   "metadata": {},
   "outputs": [
    {
     "name": "stdout",
     "output_type": "stream",
     "text": [
      "{'watermelon', 'melon', 'apple', 'banana'}\n"
     ]
    }
   ],
   "source": [
    "#.add\n",
    "fruits.add('watermelon')\n",
    "print(fruits)"
   ]
  },
  {
   "cell_type": "code",
   "execution_count": 94,
   "id": "f562a2c0-f7d3-491e-8087-997a3f3925b4",
   "metadata": {},
   "outputs": [
    {
     "name": "stdout",
     "output_type": "stream",
     "text": [
      "{'e', 'apple', 'g', 'a', 'melon', 'p', 'r'}\n"
     ]
    }
   ],
   "source": [
    "#.update\n",
    "fruits.update('grape')\n",
    "print(fruits)"
   ]
  },
  {
   "cell_type": "code",
   "execution_count": 93,
   "id": "e3a79673-96a4-4cb8-bd0f-fda598c26c67",
   "metadata": {},
   "outputs": [
    {
     "name": "stdout",
     "output_type": "stream",
     "text": [
      "{'melon', 'apple'}\n"
     ]
    }
   ],
   "source": [
    "#remove\n",
    "\n",
    "fruits.remove('banana')\n",
    "print(fruits)"
   ]
  },
  {
   "cell_type": "markdown",
   "id": "86043a30-b559-402e-852c-751b0bd458f2",
   "metadata": {},
   "source": [
    "# Map,zip,fikter"
   ]
  },
  {
   "cell_type": "markdown",
   "id": "3f68dfdb-4cc7-49a5-8353-2e446abd1b0b",
   "metadata": {},
   "source": [
    "## 5.1 map\n",
    "```\n",
    "map(fuction,literable)\n",
    "```"
   ]
  },
  {
   "cell_type": "code",
   "execution_count": 1,
   "id": "10f03cbf-26a6-483d-9d08-d49c3fad4d68",
   "metadata": {},
   "outputs": [
    {
     "name": "stdout",
     "output_type": "stream",
     "text": [
      "<map object at 0x000001B9A89CF0A0>\n"
     ]
    }
   ],
   "source": [
    "a=[1,2,3]\n",
    "\n",
    "number_str=map(str,a)\n",
    "\n",
    "print(number_str)"
   ]
  },
  {
   "cell_type": "code",
   "execution_count": 2,
   "id": "6d43eec3-6adb-48d3-99e2-b148d706a217",
   "metadata": {},
   "outputs": [
    {
     "name": "stdout",
     "output_type": "stream",
     "text": [
      "['1', '2', '3']\n"
     ]
    }
   ],
   "source": [
    "print(list(number_str))"
   ]
  },
  {
   "cell_type": "code",
   "execution_count": 3,
   "id": "fad2b0bc-0954-41b3-8d33-900b20ffec0b",
   "metadata": {},
   "outputs": [],
   "source": [
    "def cube(x):\n",
    "    return x**3"
   ]
  },
  {
   "cell_type": "code",
   "execution_count": 4,
   "id": "de47d4d3-702f-4537-beee-a33c63afd7f9",
   "metadata": {},
   "outputs": [
    {
     "name": "stdout",
     "output_type": "stream",
     "text": [
      "[1, 8, 27]\n"
     ]
    }
   ],
   "source": [
    "result=[]\n",
    "for i in a:\n",
    "    result.append(cube(i))\n",
    "\n",
    "print(result)"
   ]
  },
  {
   "cell_type": "code",
   "execution_count": 5,
   "id": "918a3ba0-e534-4b05-a6f5-78e9197696fc",
   "metadata": {},
   "outputs": [
    {
     "name": "stdout",
     "output_type": "stream",
     "text": [
      "[1, 8, 27]\n"
     ]
    }
   ],
   "source": [
    "result2= map(cube,a)\n",
    "\n",
    "print(list(result2))"
   ]
  },
  {
   "cell_type": "code",
   "execution_count": 6,
   "id": "ecf846a0-3070-437b-82da-58ae0bb4a38d",
   "metadata": {},
   "outputs": [
    {
     "name": "stdin",
     "output_type": "stream",
     "text": [
      " 123456\n"
     ]
    },
    {
     "name": "stdout",
     "output_type": "stream",
     "text": [
      "[123456]\n"
     ]
    }
   ],
   "source": [
    "numbers=list(map(int, input().split()))\n",
    "print(numbers)"
   ]
  },
  {
   "cell_type": "markdown",
   "id": "09ac0f13-2d70-4952-8dcd-772bafa31326",
   "metadata": {},
   "source": [
    "zip()"
   ]
  },
  {
   "cell_type": "code",
   "execution_count": 7,
   "id": "e0fb1ce2-23b4-4132-a024-f6844ad01ab7",
   "metadata": {},
   "outputs": [],
   "source": [
    "a=[1,2,3]\n",
    "b=[100,200,300]"
   ]
  },
  {
   "cell_type": "code",
   "execution_count": 8,
   "id": "c8dd051f-c588-4b1b-97d0-d5b4a65a34f9",
   "metadata": {},
   "outputs": [
    {
     "name": "stdout",
     "output_type": "stream",
     "text": [
      "<zip object at 0x000001B9A8A20DC0>\n",
      "[(1, 100), (2, 200), (3, 300)]\n"
     ]
    }
   ],
   "source": [
    "result=zip(a,b)\n",
    "print(result)\n",
    "print(list(result))"
   ]
  },
  {
   "cell_type": "raw",
   "id": "edf1ea24-dc95-46ae-958f-3a30c3389c9b",
   "metadata": {},
   "source": []
  },
  {
   "cell_type": "code",
   "execution_count": 10,
   "id": "9e396e9c-631c-4007-a809-a0e295cfa812",
   "metadata": {},
   "outputs": [],
   "source": [
    "def is_odd(x):\n",
    "   # if x %2==1:\n",
    "   #     return True\n",
    "    \n",
    "\n",
    "\n",
    "    return bool(x%2)"
   ]
  },
  {
   "cell_type": "code",
   "execution_count": 11,
   "id": "763290e4-1146-42ac-a2db-79a5676af735",
   "metadata": {},
   "outputs": [
    {
     "name": "stdout",
     "output_type": "stream",
     "text": [
      "[1, 3, 5]\n"
     ]
    }
   ],
   "source": [
    "numbers=  [1,2,3,4,5]\n",
    "result= filter(is_odd,numbers)\n",
    "\n",
    "print(list(result))"
   ]
  },
  {
   "cell_type": "code",
   "execution_count": null,
   "id": "47018636-ff50-445b-a345-e2fc696ab273",
   "metadata": {},
   "outputs": [],
   "source": []
  },
  {
   "cell_type": "code",
   "execution_count": null,
   "id": "620d498a-9f35-4e8c-925a-23d7e88670a5",
   "metadata": {},
   "outputs": [],
   "source": []
  },
  {
   "cell_type": "code",
   "execution_count": null,
   "id": "d3197775-6bbd-4cd1-88a9-bab6682050fe",
   "metadata": {},
   "outputs": [],
   "source": []
  },
  {
   "cell_type": "code",
   "execution_count": null,
   "id": "7fbb63f9-59ba-47d1-bc9d-2818a4672ba2",
   "metadata": {},
   "outputs": [],
   "source": []
  },
  {
   "cell_type": "code",
   "execution_count": null,
   "id": "9b33442c-a016-4917-94e0-0d3d3b9d95a0",
   "metadata": {},
   "outputs": [],
   "source": []
  },
  {
   "cell_type": "code",
   "execution_count": null,
   "id": "8d8c29d5-e974-4f6e-9cda-d3825173b609",
   "metadata": {},
   "outputs": [],
   "source": []
  },
  {
   "cell_type": "code",
   "execution_count": null,
   "id": "96cfc4bb-6955-4c33-bd4f-745e5e62cfb2",
   "metadata": {},
   "outputs": [],
   "source": []
  },
  {
   "cell_type": "code",
   "execution_count": null,
   "id": "8e3d1c8f-3a0a-4915-a315-ccea1b945c0e",
   "metadata": {},
   "outputs": [],
   "source": []
  },
  {
   "cell_type": "code",
   "execution_count": null,
   "id": "09ec8e98-de6f-4780-9a6e-80f5237086d9",
   "metadata": {},
   "outputs": [],
   "source": []
  },
  {
   "cell_type": "code",
   "execution_count": null,
   "id": "59b2b264-0420-49a1-88f7-70bf9523032c",
   "metadata": {},
   "outputs": [],
   "source": []
  },
  {
   "cell_type": "code",
   "execution_count": null,
   "id": "3bd4d13b-8355-4322-9e1b-5866c8cfaceb",
   "metadata": {},
   "outputs": [],
   "source": []
  },
  {
   "cell_type": "code",
   "execution_count": null,
   "id": "cf678403-d7b3-4fd4-a202-d328e4833054",
   "metadata": {},
   "outputs": [],
   "source": []
  },
  {
   "cell_type": "code",
   "execution_count": null,
   "id": "de2cb873-0e14-4509-b57d-bb0e39ccb1f8",
   "metadata": {},
   "outputs": [],
   "source": []
  },
  {
   "cell_type": "code",
   "execution_count": null,
   "id": "df143924-822a-45e2-95f5-912deb1f2b67",
   "metadata": {},
   "outputs": [],
   "source": []
  },
  {
   "cell_type": "code",
   "execution_count": null,
   "id": "f3eec6e2-c87e-4501-8972-3fee3d69526b",
   "metadata": {},
   "outputs": [],
   "source": []
  }
 ],
 "metadata": {
  "kernelspec": {
   "display_name": "Python 3 (ipykernel)",
   "language": "python",
   "name": "python3"
  },
  "language_info": {
   "codemirror_mode": {
    "name": "ipython",
    "version": 3
   },
   "file_extension": ".py",
   "mimetype": "text/x-python",
   "name": "python",
   "nbconvert_exporter": "python",
   "pygments_lexer": "ipython3",
   "version": "3.11.4"
  }
 },
 "nbformat": 4,
 "nbformat_minor": 5
}
