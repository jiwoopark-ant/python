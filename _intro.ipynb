{
 "cells": [
  {
   "cell_type": "code",
   "execution_count": 1,
   "id": "f5ddf198-c549-4312-bd64-ac3266904150",
   "metadata": {},
   "outputs": [
    {
     "name": "stdout",
     "output_type": "stream",
     "text": [
      "hello\n"
     ]
    }
   ],
   "source": [
    "print('hello')"
   ]
  },
  {
   "cell_type": "markdown",
   "id": "8822a8af-0e54-499a-a1e9-95e66b8ca66c",
   "metadata": {},
   "source": [
    "# 01 . intro\n",
    "## 단축키\n",
    "\n",
    "- ctrl + enter : 지금 셀 실행\n",
    "- shift + enter : 지금 셀 실행하며 아래로 이동\n",
    "- alt + enter : 지금 셀 실행하며 아래 새로운 셀 추가\n",
    "\n",
    "## 주의사항\n",
    "\n",
    "1. Apple / apple\n",
    "2. git add . / git add.\n",
    "3. message / massage \n",
    "  "
   ]
  },
  {
   "cell_type": "code",
   "execution_count": null,
   "id": "5fdbf404-15bc-4a8d-86b4-dc8b5df9124c",
   "metadata": {},
   "outputs": [],
   "source": [
    "#  주석을 나타납니다."
   ]
  },
  {
   "cell_type": "markdown",
   "id": "eb7a263a-6117-4f3f-9e20-a11a70967a62",
   "metadata": {},
   "source": [
    " # 1. 변수\n",
    "\n",
    "- 변수이름 = 값\n",
    "- 다만 영어,숫자,_ 사용\n",
    "- 키워드는 사용 불가\n",
    " "
   ]
  },
  {
   "cell_type": "code",
   "execution_count": 2,
   "id": "0f23d9a2-107d-42df-b166-2ca5ceaa8f3e",
   "metadata": {},
   "outputs": [],
   "source": [
    "a=10"
   ]
  },
  {
   "cell_type": "code",
   "execution_count": 4,
   "id": "d98c5050-6b55-4b09-b7b2-d23c7bef5551",
   "metadata": {},
   "outputs": [
    {
     "data": {
      "text/plain": [
       "10"
      ]
     },
     "execution_count": 4,
     "metadata": {},
     "output_type": "execute_result"
    }
   ],
   "source": [
    "a"
   ]
  },
  {
   "cell_type": "code",
   "execution_count": 5,
   "id": "d0d4b2c7-66c1-4d99-b658-0740d348c73d",
   "metadata": {},
   "outputs": [
    {
     "data": {
      "text/plain": [
       "['False',\n",
       " 'None',\n",
       " 'True',\n",
       " 'and',\n",
       " 'as',\n",
       " 'assert',\n",
       " 'async',\n",
       " 'await',\n",
       " 'break',\n",
       " 'class',\n",
       " 'continue',\n",
       " 'def',\n",
       " 'del',\n",
       " 'elif',\n",
       " 'else',\n",
       " 'except',\n",
       " 'finally',\n",
       " 'for',\n",
       " 'from',\n",
       " 'global',\n",
       " 'if',\n",
       " 'import',\n",
       " 'in',\n",
       " 'is',\n",
       " 'lambda',\n",
       " 'nonlocal',\n",
       " 'not',\n",
       " 'or',\n",
       " 'pass',\n",
       " 'raise',\n",
       " 'return',\n",
       " 'try',\n",
       " 'while',\n",
       " 'with',\n",
       " 'yield']"
      ]
     },
     "execution_count": 5,
     "metadata": {},
     "output_type": "execute_result"
    }
   ],
   "source": [
    "import keyword\n",
    "keyword.kwlist"
   ]
  },
  {
   "cell_type": "markdown",
   "id": "b2419a84-3768-4f5e-bb70-055fc4d2dc59",
   "metadata": {},
   "source": [
    " # 1.1 number"
   ]
  },
  {
   "cell_type": "code",
   "execution_count": 6,
   "id": "e383e8dd-67b5-47dd-8eeb-1d159bf8a4d2",
   "metadata": {},
   "outputs": [],
   "source": [
    "a=100"
   ]
  },
  {
   "cell_type": "code",
   "execution_count": 7,
   "id": "1aaf82a2-5972-4f74-b7e2-1d9699f31b87",
   "metadata": {},
   "outputs": [
    {
     "data": {
      "text/plain": [
       "100"
      ]
     },
     "execution_count": 7,
     "metadata": {},
     "output_type": "execute_result"
    }
   ],
   "source": [
    "a"
   ]
  },
  {
   "cell_type": "code",
   "execution_count": 8,
   "id": "74a2ef6c-7760-427f-af4f-55415e0c4568",
   "metadata": {},
   "outputs": [
    {
     "data": {
      "text/plain": [
       "int"
      ]
     },
     "execution_count": 8,
     "metadata": {},
     "output_type": "execute_result"
    }
   ],
   "source": [
    "type(a)"
   ]
  },
  {
   "cell_type": "code",
   "execution_count": 9,
   "id": "4f2c51a8-40c7-47eb-bda2-fdb5c4c65430",
   "metadata": {},
   "outputs": [],
   "source": [
    "b=1.1"
   ]
  },
  {
   "cell_type": "code",
   "execution_count": 10,
   "id": "63b90df2-14c5-4b25-8571-394ff50a52f9",
   "metadata": {},
   "outputs": [
    {
     "data": {
      "text/plain": [
       "float"
      ]
     },
     "execution_count": 10,
     "metadata": {},
     "output_type": "execute_result"
    }
   ],
   "source": [
    "type(b)"
   ]
  },
  {
   "cell_type": "code",
   "execution_count": 14,
   "id": "af82964a-4024-49d7-a98b-215196ff6f80",
   "metadata": {},
   "outputs": [],
   "source": [
    "c=1 - 4j"
   ]
  },
  {
   "cell_type": "code",
   "execution_count": 15,
   "id": "b4f87545-e019-47bf-b341-841f3ce25401",
   "metadata": {},
   "outputs": [
    {
     "data": {
      "text/plain": [
       "complex"
      ]
     },
     "execution_count": 15,
     "metadata": {},
     "output_type": "execute_result"
    }
   ],
   "source": [
    "type(c)"
   ]
  },
  {
   "cell_type": "code",
   "execution_count": 17,
   "id": "05cbfa2d-1f56-446b-a980-5b7744eb2f19",
   "metadata": {},
   "outputs": [
    {
     "data": {
      "text/plain": [
       "-4.0"
      ]
     },
     "execution_count": 17,
     "metadata": {},
     "output_type": "execute_result"
    }
   ],
   "source": [
    "c.imag"
   ]
  },
  {
   "cell_type": "code",
   "execution_count": 18,
   "id": "bb93fb33-f54b-4446-a443-61f9058ba6c9",
   "metadata": {},
   "outputs": [
    {
     "data": {
      "text/plain": [
       "1.0"
      ]
     },
     "execution_count": 18,
     "metadata": {},
     "output_type": "execute_result"
    }
   ],
   "source": [
    "c.real"
   ]
  },
  {
   "cell_type": "markdown",
   "id": "0e6de031-e290-43b7-ad6c-d2aaba760bf5",
   "metadata": {},
   "source": [
    "## 1.2 Boolean\n",
    "\n",
    "True, False 로 이루어진 타입"
   ]
  },
  {
   "cell_type": "code",
   "execution_count": 19,
   "id": "75fd226c-3cc5-4636-8861-0f53e04659d3",
   "metadata": {},
   "outputs": [],
   "source": [
    "a= True"
   ]
  },
  {
   "cell_type": "code",
   "execution_count": 20,
   "id": "b2034d31-fe3a-4056-a3dc-6cc3b60c829a",
   "metadata": {},
   "outputs": [
    {
     "data": {
      "text/plain": [
       "bool"
      ]
     },
     "execution_count": 20,
     "metadata": {},
     "output_type": "execute_result"
    }
   ],
   "source": [
    "type(a)"
   ]
  },
  {
   "cell_type": "markdown",
   "id": "04c2095b-c995-4d01-8b4b-21df9fd5e46e",
   "metadata": {},
   "source": [
    "# 1.3 None"
   ]
  },
  {
   "cell_type": "code",
   "execution_count": 21,
   "id": "d65c82a2-f067-423b-8d05-79fd96c4620e",
   "metadata": {},
   "outputs": [],
   "source": [
    "a= None"
   ]
  },
  {
   "cell_type": "code",
   "execution_count": 22,
   "id": "4180dbc0-0f50-4fca-b3d7-93b27c3de69a",
   "metadata": {},
   "outputs": [
    {
     "data": {
      "text/plain": [
       "NoneType"
      ]
     },
     "execution_count": 22,
     "metadata": {},
     "output_type": "execute_result"
    }
   ],
   "source": [
    "type(a)"
   ]
  },
  {
   "cell_type": "markdown",
   "id": "7767da3d-c719-4461-b23c-72a7080ea788",
   "metadata": {},
   "source": [
    "### 1.4 string\n",
    "\n",
    "- 문자열은 `\" \"` , `' '` 이용하여 표현\n",
    "- 둘 중 하나를 통일해서 쓰는게 암묵적 룰"
   ]
  },
  {
   "cell_type": "code",
   "execution_count": 23,
   "id": "adeab40f-8d75-4874-9c2a-56ac8f2c9078",
   "metadata": {},
   "outputs": [],
   "source": [
    "a='hello'"
   ]
  },
  {
   "cell_type": "code",
   "execution_count": 24,
   "id": "bdeb39f5-16fd-455c-bb3e-f9b1f5b552ec",
   "metadata": {},
   "outputs": [
    {
     "data": {
      "text/plain": [
       "str"
      ]
     },
     "execution_count": 24,
     "metadata": {},
     "output_type": "execute_result"
    }
   ],
   "source": [
    "type(a)"
   ]
  },
  {
   "cell_type": "code",
   "execution_count": 26,
   "id": "55331f73-ba1a-4dc0-bb45-24dc31052255",
   "metadata": {},
   "outputs": [
    {
     "name": "stdin",
     "output_type": "stream",
     "text": [
      " 15\n"
     ]
    },
    {
     "name": "stdout",
     "output_type": "stream",
     "text": [
      "15\n",
      "<class 'str'>\n"
     ]
    }
   ],
   "source": [
    "age= input()\n",
    "print(age)\n",
    "print(type(age))"
   ]
  },
  {
   "cell_type": "code",
   "execution_count": 27,
   "id": "f4063592-6b6b-4dd4-a58c-83069421b5ae",
   "metadata": {},
   "outputs": [
    {
     "name": "stdout",
     "output_type": "stream",
     "text": [
      "안녕하세요 '박지우' 입니다.\n"
     ]
    }
   ],
   "source": [
    "print('안녕하세요 \\'박지우\\' 입니다.')"
   ]
  },
  {
   "cell_type": "code",
   "execution_count": 28,
   "id": "d962b5fb-4747-4bd0-af43-a261f5152bae",
   "metadata": {},
   "outputs": [
    {
     "name": "stdout",
     "output_type": "stream",
     "text": [
      "엔터를 입략해봐요 \n",
      "다음줄 입니다. \t들여쓰기도 가능!.\n"
     ]
    }
   ],
   "source": [
    "print('엔터를 입략해봐요 \\n다음줄 입니다. \\t들여쓰기도 가능!.')"
   ]
  },
  {
   "cell_type": "code",
   "execution_count": 33,
   "id": "f84faf7e-db8f-48a4-9e0f-57382357f8be",
   "metadata": {},
   "outputs": [
    {
     "ename": "SyntaxError",
     "evalue": "invalid syntax. Perhaps you forgot a comma? (308015771.py, line 1)",
     "output_type": "error",
     "traceback": [
      "\u001b[1;36m  Cell \u001b[1;32mIn[33], line 1\u001b[1;36m\u001b[0m\n\u001b[1;33m    print('하나','둘','셋' sep=\\t)\u001b[0m\n\u001b[1;37m                   ^\u001b[0m\n\u001b[1;31mSyntaxError\u001b[0m\u001b[1;31m:\u001b[0m invalid syntax. Perhaps you forgot a comma?\n"
     ]
    }
   ],
   "source": [
    "print('하나','둘','셋' sep=\\t)"
   ]
  },
  {
   "cell_type": "code",
   "execution_count": 30,
   "id": "18e48c17-9583-432c-ac82-28b8fb0be2d5",
   "metadata": {},
   "outputs": [],
   "source": [
    "age=20"
   ]
  },
  {
   "cell_type": "code",
   "execution_count": 32,
   "id": "c25c0078-5b66-4021-8144-9c2004a27957",
   "metadata": {},
   "outputs": [
    {
     "name": "stdout",
     "output_type": "stream",
     "text": [
      " 박지우는 20살 입니다.\n"
     ]
    }
   ],
   "source": [
    "print(f' 박지우는 {age}살 입니다.')"
   ]
  },
  {
   "cell_type": "markdown",
   "id": "71051888-605e-4145-a00d-0c2e17fda382",
   "metadata": {},
   "source": [
    "## 2. 연산자\n",
    "\n",
    "### 2.1 산술 연산자"
   ]
  },
  {
   "cell_type": "code",
   "execution_count": 37,
   "id": "b0699ed1-7dc3-4489-8add-58836b7aeb6c",
   "metadata": {},
   "outputs": [],
   "source": [
    "a=2\n",
    "b=5"
   ]
  },
  {
   "cell_type": "code",
   "execution_count": 36,
   "id": "a5c362ec-9794-4c8d-881d-c21b03d6d47e",
   "metadata": {},
   "outputs": [
    {
     "name": "stdout",
     "output_type": "stream",
     "text": [
      "3\n",
      "-1\n",
      "2\n",
      "0.5\n",
      "1\n"
     ]
    }
   ],
   "source": [
    "print(a+b)\n",
    "print(a-b)\n",
    "print(a*b)\n",
    "print(a/b)\n",
    "print(a**b)"
   ]
  },
  {
   "cell_type": "code",
   "execution_count": 38,
   "id": "f5362ea8-426e-4128-add8-91ab7c8cf41a",
   "metadata": {},
   "outputs": [
    {
     "name": "stdout",
     "output_type": "stream",
     "text": [
      "0\n",
      "2\n"
     ]
    }
   ],
   "source": [
    "# a를 b로 나눈 몫\n",
    "print(a//b)\n",
    "\n",
    "# a를 b로 나누고 나머지 출력\n",
    "print(a % b)"
   ]
  },
  {
   "cell_type": "markdown",
   "id": "6e7b41a6-2065-4ed0-8afb-911f328739c5",
   "metadata": {},
   "source": [
    "# 2.2 비교연산자"
   ]
  },
  {
   "cell_type": "code",
   "execution_count": 39,
   "id": "038db5d2-2c68-49a8-bb85-b51ac2a9217a",
   "metadata": {},
   "outputs": [
    {
     "name": "stdout",
     "output_type": "stream",
     "text": [
      "True\n",
      "False\n",
      "False\n",
      "True\n"
     ]
    }
   ],
   "source": [
    "print( a<b)\n",
    "print(a>b)\n",
    "print(a>=b)\n",
    "print(a<=b)"
   ]
  },
  {
   "cell_type": "code",
   "execution_count": 41,
   "id": "fdc08329-c1f7-435b-b477-f04222849af4",
   "metadata": {},
   "outputs": [
    {
     "name": "stdout",
     "output_type": "stream",
     "text": [
      "False\n",
      "True\n"
     ]
    }
   ],
   "source": [
    "print(a==b)\n",
    "print(a!=b)"
   ]
  },
  {
   "cell_type": "code",
   "execution_count": 42,
   "id": "8f40ca2d-1174-4a1f-90b3-476d09623884",
   "metadata": {},
   "outputs": [
    {
     "name": "stdout",
     "output_type": "stream",
     "text": [
      "True\n"
     ]
    }
   ],
   "source": [
    "print('hi' == 'hi')"
   ]
  },
  {
   "cell_type": "code",
   "execution_count": 44,
   "id": "cc3e1d92-e4f1-44f4-a484-79ea2d031bda",
   "metadata": {},
   "outputs": [
    {
     "name": "stdout",
     "output_type": "stream",
     "text": [
      "False\n"
     ]
    }
   ],
   "source": [
    "print('Hi' == 'hi')"
   ]
  },
  {
   "cell_type": "markdown",
   "id": "53aa3280-8070-4fe5-950f-7f82c7693924",
   "metadata": {},
   "source": [
    "# 2.3 논리연산자\n",
    "- and : 양쪽 모두 True일 때, True 반환\n",
    "- or : 양쪽 모두 False일 때, False 반환\n",
    "- not : 값을 반대로 전환"
   ]
  },
  {
   "cell_type": "code",
   "execution_count": 45,
   "id": "b69b7466-0174-4448-b729-ca38163d620d",
   "metadata": {},
   "outputs": [
    {
     "name": "stdout",
     "output_type": "stream",
     "text": [
      "True\n",
      "False\n",
      "False\n",
      "False\n"
     ]
    }
   ],
   "source": [
    "print(True and True)\n",
    "print(True and False)\n",
    "print(False and True)\n",
    "print(False and False)"
   ]
  },
  {
   "cell_type": "code",
   "execution_count": 46,
   "id": "c4b0e4ad-b946-4a01-a725-115ada92f1c8",
   "metadata": {},
   "outputs": [
    {
     "name": "stdout",
     "output_type": "stream",
     "text": [
      "True\n",
      "True\n",
      "True\n",
      "False\n"
     ]
    }
   ],
   "source": [
    "print(True or True)\n",
    "print(True or False)\n",
    "print(False or True)\n",
    "print(False or False)"
   ]
  },
  {
   "cell_type": "code",
   "execution_count": 47,
   "id": "0a9dc618-d9bd-47b4-a968-1f36d1059523",
   "metadata": {},
   "outputs": [
    {
     "name": "stdout",
     "output_type": "stream",
     "text": [
      "True\n",
      "False\n"
     ]
    }
   ],
   "source": [
    "print(True)\n",
    "print(not True)"
   ]
  },
  {
   "cell_type": "code",
   "execution_count": 48,
   "id": "0971abd4-6a13-4b6a-a4ab-539e29083eb6",
   "metadata": {},
   "outputs": [
    {
     "name": "stdout",
     "output_type": "stream",
     "text": [
      "5\n",
      "0\n",
      "0\n",
      "0\n"
     ]
    }
   ],
   "source": [
    "# 단축평가\n",
    "print(3 and 5)\n",
    "print(3 and 0)\n",
    "print(0 and 5)\n",
    "print(0 and 0)"
   ]
  },
  {
   "cell_type": "code",
   "execution_count": 49,
   "id": "ae02559c-8bfc-480e-a1e6-9e0fab332ecb",
   "metadata": {},
   "outputs": [
    {
     "name": "stdout",
     "output_type": "stream",
     "text": [
      "3\n",
      "3\n",
      "5\n",
      "0\n"
     ]
    }
   ],
   "source": [
    "print(3 or 5)\n",
    "print(3 or 0)\n",
    "print(0 or 5)\n",
    "print(0 or 0)"
   ]
  },
  {
   "cell_type": "markdown",
   "id": "04b12f43-8ac7-41b0-bd6b-cf94db1f4273",
   "metadata": {},
   "source": [
    "# 2.3 복합연산자"
   ]
  },
  {
   "cell_type": "code",
   "execution_count": 50,
   "id": "7d0b7f33-8797-4337-8ac4-51bea4811663",
   "metadata": {},
   "outputs": [
    {
     "name": "stdout",
     "output_type": "stream",
     "text": [
      "2\n"
     ]
    }
   ],
   "source": [
    "a=1 \n",
    "a=a+1\n",
    "print(a)"
   ]
  },
  {
   "cell_type": "code",
   "execution_count": 52,
   "id": "31517919-21b0-4a9b-afe2-0106805460da",
   "metadata": {},
   "outputs": [
    {
     "name": "stdout",
     "output_type": "stream",
     "text": [
      "4\n"
     ]
    }
   ],
   "source": [
    "a+=1\n",
    "print(a)"
   ]
  },
  {
   "cell_type": "code",
   "execution_count": 54,
   "id": "6d5d238e-16ac-4c71-80f3-30f7f902f3c4",
   "metadata": {},
   "outputs": [],
   "source": [
    "a=1 \n",
    "b=2"
   ]
  },
  {
   "cell_type": "code",
   "execution_count": 55,
   "id": "bd94ecee-4c1a-4f91-9d1f-ba1155573e9a",
   "metadata": {},
   "outputs": [],
   "source": [
    "a= a + b\n",
    "a= a- b\n",
    "a= a*b\n",
    "a=a/b\n",
    "a=a//b\n",
    "a=a%b\n",
    "a=a**b"
   ]
  },
  {
   "cell_type": "code",
   "execution_count": 56,
   "id": "faa410e1-b9a9-4946-990b-dbf0ae43ede8",
   "metadata": {},
   "outputs": [],
   "source": [
    "a+=b\n",
    "a-=b\n",
    "a*=b\n",
    "a/=b\n",
    "a//=b\n",
    "a%=b\n",
    "a**=b"
   ]
  },
  {
   "cell_type": "markdown",
   "id": "5b90bd28-5f6f-4a17-8bc2-a04221872cf6",
   "metadata": {},
   "source": [
    "# 2.4 기타연산자"
   ]
  },
  {
   "cell_type": "code",
   "execution_count": 57,
   "id": "68fd97a8-f064-4ba0-8522-889a807aea1f",
   "metadata": {},
   "outputs": [],
   "source": [
    "a= 'hi'\n",
    "b='hello'"
   ]
  },
  {
   "cell_type": "code",
   "execution_count": 58,
   "id": "123158e6-f8b8-4b27-9873-19f33480f697",
   "metadata": {},
   "outputs": [
    {
     "data": {
      "text/plain": [
       "'hihello'"
      ]
     },
     "execution_count": 58,
     "metadata": {},
     "output_type": "execute_result"
    }
   ],
   "source": [
    "a+b"
   ]
  },
  {
   "cell_type": "code",
   "execution_count": 59,
   "id": "193611da-2bfe-43ee-8cf2-4e2526c0d039",
   "metadata": {},
   "outputs": [
    {
     "data": {
      "text/plain": [
       "[1, 2, 3, 4, 5, 6]"
      ]
     },
     "execution_count": 59,
     "metadata": {},
     "output_type": "execute_result"
    }
   ],
   "source": [
    "a= [1,2,3]\n",
    "b=[4,5,6]\n",
    "a+b"
   ]
  },
  {
   "cell_type": "code",
   "execution_count": 60,
   "id": "fa649815-56c0-4939-a433-d4e86db29c80",
   "metadata": {},
   "outputs": [
    {
     "name": "stdout",
     "output_type": "stream",
     "text": [
      "True\n",
      "False\n"
     ]
    }
   ],
   "source": [
    "print( 'a' in 'apple')\n",
    "print('z' in 'apple')      "
   ]
  },
  {
   "cell_type": "code",
   "execution_count": 65,
   "id": "09c348c6-a2d2-488f-8654-614c887996d1",
   "metadata": {},
   "outputs": [
    {
     "name": "stdout",
     "output_type": "stream",
     "text": [
      "True\n",
      "140718206018344\n",
      "140718206018344\n"
     ]
    }
   ],
   "source": [
    "# identity\n",
    "# 몊몊 숫자는 메모리 주소를 일정부분 미리 할달시켜둔다. EX) 1,2\n",
    "a=1\n",
    "b=1\n",
    "print(a is b)\n",
    "print(id(a))\n",
    "print(id(b))"
   ]
  },
  {
   "cell_type": "code",
   "execution_count": 64,
   "id": "a8b0f3b7-8463-47a0-8867-eccc8731b7bb",
   "metadata": {},
   "outputs": [
    {
     "name": "stdout",
     "output_type": "stream",
     "text": [
      "False\n",
      "2600169340368\n",
      "2600169340560\n"
     ]
    }
   ],
   "source": [
    "#identity\n",
    "\n",
    "a=123123\n",
    "\n",
    "b=123123\n",
    "print( a is b)\n",
    "print(id(a))\n",
    "print(id(b))"
   ]
  },
  {
   "cell_type": "markdown",
   "id": "81418fc0-27f0-4817-9ea8-d358a86a6b17",
   "metadata": {},
   "source": [
    "# 우선순위\n",
    "\n",
    "0. ()를 통해 그룹핑\n",
    "1. 산슬연산자 ( *, /)\n",
    "2. 산술연산자 (=, - )\n",
    "3. 비교연산자 IN, IS\n",
    "4. NOT\n",
    "5. AND "
   ]
  },
  {
   "cell_type": "markdown",
   "id": "cbb04819-1124-4387-81c5-54351a2e71a0",
   "metadata": {},
   "source": [
    "# 형변환\n",
    "\n",
    "## 3.1 암시적 형변환"
   ]
  },
  {
   "cell_type": "code",
   "execution_count": 66,
   "id": "d1895fe7-6026-4a22-a459-52a3abe6e9dd",
   "metadata": {},
   "outputs": [],
   "source": [
    "a= True\n",
    "b=1"
   ]
  },
  {
   "cell_type": "code",
   "execution_count": 67,
   "id": "9ee3b267-cf0e-451f-bc32-a318e7329e21",
   "metadata": {},
   "outputs": [
    {
     "data": {
      "text/plain": [
       "2"
      ]
     },
     "execution_count": 67,
     "metadata": {},
     "output_type": "execute_result"
    }
   ],
   "source": [
    "a+b"
   ]
  },
  {
   "cell_type": "code",
   "execution_count": 68,
   "id": "963f9e8d-5666-4346-95ed-616c02b0938d",
   "metadata": {},
   "outputs": [],
   "source": [
    "int_num=1\n",
    "float_num=3.3\n",
    "complex_num=1 + 3j"
   ]
  },
  {
   "cell_type": "code",
   "execution_count": 71,
   "id": "b2f5515b-b5d5-4afb-8216-61babb31272a",
   "metadata": {},
   "outputs": [
    {
     "name": "stdout",
     "output_type": "stream",
     "text": [
      "4.3\n",
      "(2+3j)\n"
     ]
    }
   ],
   "source": [
    "print(int_num + float_num)\n",
    "print(int_num + complex_num)"
   ]
  },
  {
   "cell_type": "markdown",
   "id": "b8a0cbde-728c-4659-8b9e-1101e877f405",
   "metadata": {},
   "source": [
    "## 3.2 명시적 형변환\n",
    "- int()\n",
    "- float()\n",
    "- str()"
   ]
  },
  {
   "cell_type": "code",
   "execution_count": 72,
   "id": "093971ff-3d9c-405c-ac59-e96e50090c77",
   "metadata": {},
   "outputs": [],
   "source": [
    "a=1 \n",
    "b= '번'"
   ]
  },
  {
   "cell_type": "code",
   "execution_count": 73,
   "id": "efa3683b-4af6-408b-bd1e-6d2de34ca513",
   "metadata": {},
   "outputs": [
    {
     "ename": "TypeError",
     "evalue": "unsupported operand type(s) for +: 'int' and 'str'",
     "output_type": "error",
     "traceback": [
      "\u001b[1;31m---------------------------------------------------------------------------\u001b[0m",
      "\u001b[1;31mTypeError\u001b[0m                                 Traceback (most recent call last)",
      "Cell \u001b[1;32mIn[73], line 1\u001b[0m\n\u001b[1;32m----> 1\u001b[0m \u001b[38;5;28mprint\u001b[39m( \u001b[43ma\u001b[49m\u001b[43m \u001b[49m\u001b[38;5;241;43m+\u001b[39;49m\u001b[43m \u001b[49m\u001b[43mb\u001b[49m)\n",
      "\u001b[1;31mTypeError\u001b[0m: unsupported operand type(s) for +: 'int' and 'str'"
     ]
    }
   ],
   "source": [
    "print( a + b)"
   ]
  },
  {
   "cell_type": "code",
   "execution_count": 74,
   "id": "9dc2c0f7-d11d-475e-b1fe-31b83e2c1aa3",
   "metadata": {},
   "outputs": [
    {
     "name": "stdout",
     "output_type": "stream",
     "text": [
      "1번\n"
     ]
    }
   ],
   "source": [
    "print(str(a)+b)"
   ]
  },
  {
   "cell_type": "markdown",
   "id": "50379598-d014-4710-b306-ce653b62612e",
   "metadata": {},
   "source": [
    "# 4. 시퀀스(sequence) 자료형\n",
    "\n",
    "## 시퀀스는 데이터의 순서대로 나열된 자료구조"
   ]
  },
  {
   "cell_type": "markdown",
   "id": "a959629a-3441-40a5-b496-6f92c3f91ab6",
   "metadata": {},
   "source": [
    "## 4.1 List\n",
    "- 선언: 변수이름 = [value1, value2 ,,,,,,]\n",
    "- 접근: 변수이름[index]"
   ]
  },
  {
   "cell_type": "code",
   "execution_count": 75,
   "id": "d2bbdaff-e54d-4881-9327-5305359280b6",
   "metadata": {},
   "outputs": [
    {
     "name": "stdout",
     "output_type": "stream",
     "text": [
      "[]\n"
     ]
    }
   ],
   "source": [
    "l= []\n",
    "print(l)"
   ]
  },
  {
   "cell_type": "markdown",
   "id": "d5c7a889-84e2-4c54-8a62-9cde77ca5c95",
   "metadata": {},
   "source": [
    "## 4.2 Tuple\n",
    "- 선언 변수이름=(value1, value2 ,,,,)\n",
    "- 점근: 변수이름[index]\n",
    "- 튜플은 수정이 불가능 하다 immutable"
   ]
  },
  {
   "cell_type": "markdown",
   "id": "0bef202c-4f84-448e-9e72-7d63f1033855",
   "metadata": {},
   "source": [
    "## 4.3 Range "
   ]
  },
  {
   "cell_type": "markdown",
   "id": "2ebab5d9-1d66-410b-827e-7c81a70d7b46",
   "metadata": {},
   "source": [
    "### 4.4 String"
   ]
  },
  {
   "cell_type": "markdown",
   "id": "87ec9dab-0def-4145-a238-de79a70d7c14",
   "metadata": {},
   "source": [
    "## 4.5 시퀀스에서 활용가능한 연산/함수"
   ]
  },
  {
   "cell_type": "code",
   "execution_count": 76,
   "id": "753f9708-e60d-4105-9d57-f764e68d17dc",
   "metadata": {},
   "outputs": [],
   "source": [
    "my_list=[1,2,3,4,5]\n",
    "my_tuple=(1,2,3,4,5)\n",
    "my_range=range(1,6)\n",
    "my_string='12345'"
   ]
  },
  {
   "cell_type": "code",
   "execution_count": 77,
   "id": "8199e8b8-b450-47eb-a8ba-5d1bc20b18c7",
   "metadata": {},
   "outputs": [
    {
     "data": {
      "text/plain": [
       "range(3, 6, 2)"
      ]
     },
     "execution_count": 77,
     "metadata": {},
     "output_type": "execute_result"
    }
   ],
   "source": [
    "#indexing\n",
    "#slicing\n",
    "my_range[2:50:2]"
   ]
  },
  {
   "cell_type": "markdown",
   "id": "6831d58c-a269-43ab-9fac-ed9a3dc0c3fc",
   "metadata": {},
   "source": [
    "## 5.1 시퀀스데이터가 아닌 자료구조\n",
    "### 5.1 SET\n",
    "수학에서 사용하는 집합과 동일하게 처리 (중복된 값이 없음)\n",
    "= 선언 : 변수이름= {value1 , value2, value3,,,}"
   ]
  },
  {
   "cell_type": "code",
   "execution_count": 78,
   "id": "cea9ad1b-afaa-43ea-91ec-fc2b0e675a04",
   "metadata": {},
   "outputs": [],
   "source": [
    "my_seta={1,2,3,4,5}\n",
    "my_setb={3,4,5,6,7}"
   ]
  },
  {
   "cell_type": "code",
   "execution_count": 81,
   "id": "6b36be22-d759-4bdb-85c1-a99cf8baccd1",
   "metadata": {},
   "outputs": [
    {
     "name": "stdout",
     "output_type": "stream",
     "text": [
      "{1, 2}\n",
      "{1, 2, 3, 4, 5, 6, 7}\n",
      "{3, 4, 5}\n"
     ]
    }
   ],
   "source": [
    "print(my_seta - my_setb)\n",
    "print(my_seta | my_setb)\n",
    "print(my_seta & my_setb)"
   ]
  },
  {
   "cell_type": "code",
   "execution_count": 82,
   "id": "969d138f-5c49-46e1-91ea-9eb81c4fb017",
   "metadata": {},
   "outputs": [
    {
     "name": "stdout",
     "output_type": "stream",
     "text": [
      "[1, 2, 3, 4, 5]\n"
     ]
    }
   ],
   "source": [
    "my_kist=(1,2,3,4,1,1,2,3,4,5,6,7)\n",
    "print(list(set(my_list)))"
   ]
  },
  {
   "cell_type": "markdown",
   "id": "546b197b-34cd-496f-b182-8c39e2b2c1af",
   "metadata": {},
   "source": [
    "### 5.2 Dictionary\n",
    "- 선언 : 변수이름={key1:value1, key2: value2,,,,}\n",
    "- 접근: 변수이름{key}\n",
    "\n",
    "- dictionary key,value 쌍으로 이루어짐\n",
    "- key에는 immutable한 모든것 사용가능 (불변값: string,integr...)\n",
    "- value애는 모든 데이터 가능(list,dictionary도 가능)"
   ]
  },
  {
   "cell_type": "markdown",
   "id": "4cb9a5cc-8a3d-40e9-9eb9-d11578628b48",
   "metadata": {},
   "source": [
    "## 2차원리스트"
   ]
  },
  {
   "cell_type": "code",
   "execution_count": 83,
   "id": "e7a6d931-c1ec-4ee3-8725-36a618fdd1a3",
   "metadata": {},
   "outputs": [
    {
     "name": "stdout",
     "output_type": "stream",
     "text": [
      "[[0, 0, 0], [0, 0, 0], [0, 0, 0]]\n"
     ]
    }
   ],
   "source": [
    "a=[[0]*3 for i in range(3)]\n",
    "print(a)"
   ]
  },
  {
   "cell_type": "code",
   "execution_count": 89,
   "id": "7e467dd3-eca3-4da7-b483-3aae0c04ba8f",
   "metadata": {},
   "outputs": [
    {
     "name": "stdout",
     "output_type": "stream",
     "text": [
      "[0, 0, 0]\n",
      "[0, 0, 0]\n",
      "[0, 0, 0]\n"
     ]
    }
   ],
   "source": [
    "for x in a:\n",
    "    print(x)\n",
    "    "
   ]
  },
  {
   "cell_type": "markdown",
   "id": "c24a99a4-d54a-4f65-9d0c-d4ecd3b8a97f",
   "metadata": {},
   "source": [
    "### 2차원 리스트 원소 접근방법"
   ]
  },
  {
   "cell_type": "code",
   "execution_count": 88,
   "id": "91523ae7-65f8-4360-af45-96e9522ff5f1",
   "metadata": {},
   "outputs": [
    {
     "name": "stdout",
     "output_type": "stream",
     "text": [
      "0 0 0 \n",
      "0 0 0 \n",
      "0 0 0 \n"
     ]
    }
   ],
   "source": [
    "for x in a:\n",
    "    for y in x:\n",
    "        print(y, end=' ')\n",
    "    print()   "
   ]
  },
  {
   "cell_type": "markdown",
   "id": "af0c9e18-9f0e-4595-a2f9-4bb5ab59bdc6",
   "metadata": {},
   "source": [
    "## 함수 만들기"
   ]
  },
  {
   "cell_type": "code",
   "execution_count": 90,
   "id": "e7285dc5-55da-41c0-a11a-c1a9c84d0cbf",
   "metadata": {},
   "outputs": [],
   "source": [
    "def add(a,b):\n",
    "    c=a+b\n",
    "    print(c)"
   ]
  },
  {
   "cell_type": "code",
   "execution_count": 91,
   "id": "0845090f-8232-47ff-8ba3-9bd16c06e83d",
   "metadata": {},
   "outputs": [
    {
     "name": "stdout",
     "output_type": "stream",
     "text": [
      "11\n"
     ]
    }
   ],
   "source": [
    "add(4,7)"
   ]
  },
  {
   "cell_type": "code",
   "execution_count": 93,
   "id": "901197a0-2865-4b28-9b46-0ad5f1342ad1",
   "metadata": {},
   "outputs": [
    {
     "name": "stdout",
     "output_type": "stream",
     "text": [
      "5\n"
     ]
    }
   ],
   "source": [
    "def add(a,b):\n",
    "    c=a+b\n",
    "    return c\n",
    "\n",
    "print(add(3,2))"
   ]
  },
  {
   "cell_type": "code",
   "execution_count": 103,
   "id": "8b739934-36e8-4b29-b6ed-16d1c2bc327a",
   "metadata": {},
   "outputs": [
    {
     "name": "stdout",
     "output_type": "stream",
     "text": [
      "(12, 2)\n"
     ]
    }
   ],
   "source": [
    "def add(a,b):\n",
    "    c=a+b\n",
    "    d=a-b\n",
    "    return c,d\n",
    "print(add(7,5))    "
   ]
  },
  {
   "cell_type": "markdown",
   "id": "d07f3da5-1dda-450a-9d6b-844432f4a57d",
   "metadata": {},
   "source": [
    "## 소수 고르는 함수 만들기"
   ]
  },
  {
   "cell_type": "code",
   "execution_count": 96,
   "id": "eb058b7f-daf7-484e-8593-92def1274d84",
   "metadata": {},
   "outputs": [],
   "source": [
    "a=[12,13,17,10,11]"
   ]
  },
  {
   "cell_type": "code",
   "execution_count": 101,
   "id": "09f6643a-bc15-4e3b-af37-9ad9b89bee12",
   "metadata": {},
   "outputs": [],
   "source": [
    "def isPrime(x):\n",
    "    for i in range(2,x):\n",
    "        if x%i==0:\n",
    "            return False\n",
    "    return True       "
   ]
  },
  {
   "cell_type": "code",
   "execution_count": 104,
   "id": "a14e7020-9541-4fb8-89a0-64ea1f796fc4",
   "metadata": {},
   "outputs": [
    {
     "name": "stdout",
     "output_type": "stream",
     "text": [
      "13 17 11 "
     ]
    }
   ],
   "source": [
    "for y in a:\n",
    "    if isPrime(y):\n",
    "        print(y, end=' ')"
   ]
  },
  {
   "cell_type": "markdown",
   "id": "751f7f9e-0dce-4012-9bcf-5e765f22db4c",
   "metadata": {},
   "source": [
    "## 람다함수 (익명의 함수)"
   ]
  },
  {
   "cell_type": "code",
   "execution_count": 105,
   "id": "ef3f7f86-df5a-43de-b309-b11cd362bf61",
   "metadata": {},
   "outputs": [
    {
     "name": "stdout",
     "output_type": "stream",
     "text": [
      "5\n"
     ]
    }
   ],
   "source": [
    "## def plus_one(x):\n",
    "#        return x=x+1\n",
    "plus_two=lambda x : x+2\n",
    "print(plus_two(3))"
   ]
  },
  {
   "cell_type": "code",
   "execution_count": 110,
   "id": "32217cd9-c2a9-4b59-b139-3aa49f6a5e1b",
   "metadata": {},
   "outputs": [
    {
     "name": "stdout",
     "output_type": "stream",
     "text": [
      "[2, 3, 4]\n"
     ]
    }
   ],
   "source": [
    "def plus_one(x):\n",
    "    return x+1\n",
    "a=[1,2,3]\n",
    "print(list(map(plus_one,a)))"
   ]
  },
  {
   "cell_type": "code",
   "execution_count": null,
   "id": "3266eef0-8f72-43c4-9090-fe9e4f44deb9",
   "metadata": {},
   "outputs": [],
   "source": [
    "print(list(map(lambda x:x+1,a)))"
   ]
  },
  {
   "cell_type": "code",
   "execution_count": null,
   "id": "d90b3a4d-15ea-459b-8efd-fcf7933bdc6f",
   "metadata": {},
   "outputs": [],
   "source": []
  },
  {
   "cell_type": "code",
   "execution_count": null,
   "id": "d614efe2-18dd-4664-9f3a-a685dea61071",
   "metadata": {},
   "outputs": [],
   "source": []
  },
  {
   "cell_type": "code",
   "execution_count": null,
   "id": "cfabd85b-aa75-4475-9bb3-cb41220979d9",
   "metadata": {},
   "outputs": [],
   "source": []
  },
  {
   "cell_type": "code",
   "execution_count": null,
   "id": "de048442-711c-4061-9de8-e588007b92a7",
   "metadata": {},
   "outputs": [],
   "source": []
  },
  {
   "cell_type": "code",
   "execution_count": null,
   "id": "294a4fe2-a7e0-49cd-b863-c5aae25a9e85",
   "metadata": {},
   "outputs": [],
   "source": []
  },
  {
   "cell_type": "code",
   "execution_count": null,
   "id": "c800b4eb-5cc0-4731-8e47-285dbea25977",
   "metadata": {},
   "outputs": [],
   "source": []
  },
  {
   "cell_type": "code",
   "execution_count": null,
   "id": "c2729a56-21fb-439f-a9a5-fff51f3f7f63",
   "metadata": {},
   "outputs": [],
   "source": []
  },
  {
   "cell_type": "code",
   "execution_count": null,
   "id": "9a24ff79-068b-48a3-8370-cdd111d36372",
   "metadata": {},
   "outputs": [],
   "source": []
  },
  {
   "cell_type": "code",
   "execution_count": null,
   "id": "b5c7c170-42f9-4d2e-a9f6-a47f280baa58",
   "metadata": {},
   "outputs": [],
   "source": []
  }
 ],
 "metadata": {
  "kernelspec": {
   "display_name": "Python 3 (ipykernel)",
   "language": "python",
   "name": "python3"
  },
  "language_info": {
   "codemirror_mode": {
    "name": "ipython",
    "version": 3
   },
   "file_extension": ".py",
   "mimetype": "text/x-python",
   "name": "python",
   "nbconvert_exporter": "python",
   "pygments_lexer": "ipython3",
   "version": "3.11.4"
  }
 },
 "nbformat": 4,
 "nbformat_minor": 5
}
