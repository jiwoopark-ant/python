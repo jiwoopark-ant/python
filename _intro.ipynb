{
 "cells": [
  {
   "cell_type": "code",
   "execution_count": 1,
   "id": "f5ddf198-c549-4312-bd64-ac3266904150",
   "metadata": {},
   "outputs": [
    {
     "name": "stdout",
     "output_type": "stream",
     "text": [
      "hello\n"
     ]
    }
   ],
   "source": [
    "print('hello')"
   ]
  },
  {
   "cell_type": "markdown",
   "id": "8822a8af-0e54-499a-a1e9-95e66b8ca66c",
   "metadata": {},
   "source": [
    "# 01 . intro\n",
    "## 단축키\n",
    "\n",
    "- ctrl + enter : 지금 셀 실행\n",
    "- shift + enter : 지금 셀 실행하며 아래로 이동\n",
    "- alt + enter : 지금 셀 실행하며 아래 새로운 셀 추가\n",
    "\n",
    "## 주의사항\n",
    "\n",
    "1. Apple / apple\n",
    "2. git add . / git add.\n",
    "3. message / massage \n",
    "  "
   ]
  },
  {
   "cell_type": "code",
   "execution_count": null,
   "id": "5fdbf404-15bc-4a8d-86b4-dc8b5df9124c",
   "metadata": {},
   "outputs": [],
   "source": [
    "#  주석을 나타납니다."
   ]
  },
  {
   "cell_type": "markdown",
   "id": "eb7a263a-6117-4f3f-9e20-a11a70967a62",
   "metadata": {},
   "source": [
    " # 1. 변수\n",
    "\n",
    "- 변수이름 = 값\n",
    "- 다만 영어,숫자,_ 사용\n",
    "- 키워드는 사용 불가\n",
    " "
   ]
  },
  {
   "cell_type": "code",
   "execution_count": 2,
   "id": "0f23d9a2-107d-42df-b166-2ca5ceaa8f3e",
   "metadata": {},
   "outputs": [],
   "source": [
    "a=10"
   ]
  },
  {
   "cell_type": "code",
   "execution_count": 4,
   "id": "d98c5050-6b55-4b09-b7b2-d23c7bef5551",
   "metadata": {},
   "outputs": [
    {
     "data": {
      "text/plain": [
       "10"
      ]
     },
     "execution_count": 4,
     "metadata": {},
     "output_type": "execute_result"
    }
   ],
   "source": [
    "a"
   ]
  },
  {
   "cell_type": "code",
   "execution_count": 5,
   "id": "d0d4b2c7-66c1-4d99-b658-0740d348c73d",
   "metadata": {},
   "outputs": [
    {
     "data": {
      "text/plain": [
       "['False',\n",
       " 'None',\n",
       " 'True',\n",
       " 'and',\n",
       " 'as',\n",
       " 'assert',\n",
       " 'async',\n",
       " 'await',\n",
       " 'break',\n",
       " 'class',\n",
       " 'continue',\n",
       " 'def',\n",
       " 'del',\n",
       " 'elif',\n",
       " 'else',\n",
       " 'except',\n",
       " 'finally',\n",
       " 'for',\n",
       " 'from',\n",
       " 'global',\n",
       " 'if',\n",
       " 'import',\n",
       " 'in',\n",
       " 'is',\n",
       " 'lambda',\n",
       " 'nonlocal',\n",
       " 'not',\n",
       " 'or',\n",
       " 'pass',\n",
       " 'raise',\n",
       " 'return',\n",
       " 'try',\n",
       " 'while',\n",
       " 'with',\n",
       " 'yield']"
      ]
     },
     "execution_count": 5,
     "metadata": {},
     "output_type": "execute_result"
    }
   ],
   "source": [
    "import keyword\n",
    "keyword.kwlist"
   ]
  },
  {
   "cell_type": "markdown",
   "id": "b2419a84-3768-4f5e-bb70-055fc4d2dc59",
   "metadata": {},
   "source": [
    " # 1.1 number"
   ]
  },
  {
   "cell_type": "code",
   "execution_count": 6,
   "id": "e383e8dd-67b5-47dd-8eeb-1d159bf8a4d2",
   "metadata": {},
   "outputs": [],
   "source": [
    "a=100"
   ]
  },
  {
   "cell_type": "code",
   "execution_count": 7,
   "id": "1aaf82a2-5972-4f74-b7e2-1d9699f31b87",
   "metadata": {},
   "outputs": [
    {
     "data": {
      "text/plain": [
       "100"
      ]
     },
     "execution_count": 7,
     "metadata": {},
     "output_type": "execute_result"
    }
   ],
   "source": [
    "a"
   ]
  },
  {
   "cell_type": "code",
   "execution_count": 8,
   "id": "74a2ef6c-7760-427f-af4f-55415e0c4568",
   "metadata": {},
   "outputs": [
    {
     "data": {
      "text/plain": [
       "int"
      ]
     },
     "execution_count": 8,
     "metadata": {},
     "output_type": "execute_result"
    }
   ],
   "source": [
    "type(a)"
   ]
  },
  {
   "cell_type": "code",
   "execution_count": 9,
   "id": "4f2c51a8-40c7-47eb-bda2-fdb5c4c65430",
   "metadata": {},
   "outputs": [],
   "source": [
    "b=1.1"
   ]
  },
  {
   "cell_type": "code",
   "execution_count": 10,
   "id": "63b90df2-14c5-4b25-8571-394ff50a52f9",
   "metadata": {},
   "outputs": [
    {
     "data": {
      "text/plain": [
       "float"
      ]
     },
     "execution_count": 10,
     "metadata": {},
     "output_type": "execute_result"
    }
   ],
   "source": [
    "type(b)"
   ]
  },
  {
   "cell_type": "code",
   "execution_count": 14,
   "id": "af82964a-4024-49d7-a98b-215196ff6f80",
   "metadata": {},
   "outputs": [],
   "source": [
    "c=1 - 4j"
   ]
  },
  {
   "cell_type": "code",
   "execution_count": 15,
   "id": "b4f87545-e019-47bf-b341-841f3ce25401",
   "metadata": {},
   "outputs": [
    {
     "data": {
      "text/plain": [
       "complex"
      ]
     },
     "execution_count": 15,
     "metadata": {},
     "output_type": "execute_result"
    }
   ],
   "source": [
    "type(c)"
   ]
  },
  {
   "cell_type": "code",
   "execution_count": 17,
   "id": "05cbfa2d-1f56-446b-a980-5b7744eb2f19",
   "metadata": {},
   "outputs": [
    {
     "data": {
      "text/plain": [
       "-4.0"
      ]
     },
     "execution_count": 17,
     "metadata": {},
     "output_type": "execute_result"
    }
   ],
   "source": [
    "c.imag"
   ]
  },
  {
   "cell_type": "code",
   "execution_count": 18,
   "id": "bb93fb33-f54b-4446-a443-61f9058ba6c9",
   "metadata": {},
   "outputs": [
    {
     "data": {
      "text/plain": [
       "1.0"
      ]
     },
     "execution_count": 18,
     "metadata": {},
     "output_type": "execute_result"
    }
   ],
   "source": [
    "c.real"
   ]
  },
  {
   "cell_type": "markdown",
   "id": "0e6de031-e290-43b7-ad6c-d2aaba760bf5",
   "metadata": {},
   "source": [
    "## 1.2 Boolean\n",
    "\n",
    "True, False 로 이루어진 타입"
   ]
  },
  {
   "cell_type": "code",
   "execution_count": 19,
   "id": "75fd226c-3cc5-4636-8861-0f53e04659d3",
   "metadata": {},
   "outputs": [],
   "source": [
    "a= True"
   ]
  },
  {
   "cell_type": "code",
   "execution_count": 20,
   "id": "b2034d31-fe3a-4056-a3dc-6cc3b60c829a",
   "metadata": {},
   "outputs": [
    {
     "data": {
      "text/plain": [
       "bool"
      ]
     },
     "execution_count": 20,
     "metadata": {},
     "output_type": "execute_result"
    }
   ],
   "source": [
    "type(a)"
   ]
  },
  {
   "cell_type": "markdown",
   "id": "04c2095b-c995-4d01-8b4b-21df9fd5e46e",
   "metadata": {},
   "source": [
    "# 1.3 None"
   ]
  },
  {
   "cell_type": "code",
   "execution_count": 21,
   "id": "d65c82a2-f067-423b-8d05-79fd96c4620e",
   "metadata": {},
   "outputs": [],
   "source": [
    "a= None"
   ]
  },
  {
   "cell_type": "code",
   "execution_count": 22,
   "id": "4180dbc0-0f50-4fca-b3d7-93b27c3de69a",
   "metadata": {},
   "outputs": [
    {
     "data": {
      "text/plain": [
       "NoneType"
      ]
     },
     "execution_count": 22,
     "metadata": {},
     "output_type": "execute_result"
    }
   ],
   "source": [
    "type(a)"
   ]
  },
  {
   "cell_type": "markdown",
   "id": "7767da3d-c719-4461-b23c-72a7080ea788",
   "metadata": {},
   "source": [
    "### 1.4 string\n",
    "\n",
    "- 문자열은 `\" \"` , `' '` 이용하여 표현\n",
    "- 둘 중 하나를 통일해서 쓰는게 암묵적 룰"
   ]
  },
  {
   "cell_type": "code",
   "execution_count": 23,
   "id": "adeab40f-8d75-4874-9c2a-56ac8f2c9078",
   "metadata": {},
   "outputs": [],
   "source": [
    "a='hello'"
   ]
  },
  {
   "cell_type": "code",
   "execution_count": 24,
   "id": "bdeb39f5-16fd-455c-bb3e-f9b1f5b552ec",
   "metadata": {},
   "outputs": [
    {
     "data": {
      "text/plain": [
       "str"
      ]
     },
     "execution_count": 24,
     "metadata": {},
     "output_type": "execute_result"
    }
   ],
   "source": [
    "type(a)"
   ]
  },
  {
   "cell_type": "code",
   "execution_count": 26,
   "id": "55331f73-ba1a-4dc0-bb45-24dc31052255",
   "metadata": {},
   "outputs": [
    {
     "name": "stdin",
     "output_type": "stream",
     "text": [
      " 15\n"
     ]
    },
    {
     "name": "stdout",
     "output_type": "stream",
     "text": [
      "15\n",
      "<class 'str'>\n"
     ]
    }
   ],
   "source": [
    "age= input()\n",
    "print(age)\n",
    "print(type(age))"
   ]
  },
  {
   "cell_type": "code",
   "execution_count": 27,
   "id": "f4063592-6b6b-4dd4-a58c-83069421b5ae",
   "metadata": {},
   "outputs": [
    {
     "name": "stdout",
     "output_type": "stream",
     "text": [
      "안녕하세요 '박지우' 입니다.\n"
     ]
    }
   ],
   "source": [
    "print('안녕하세요 \\'박지우\\' 입니다.')"
   ]
  },
  {
   "cell_type": "code",
   "execution_count": 28,
   "id": "d962b5fb-4747-4bd0-af43-a261f5152bae",
   "metadata": {},
   "outputs": [
    {
     "name": "stdout",
     "output_type": "stream",
     "text": [
      "엔터를 입략해봐요 \n",
      "다음줄 입니다. \t들여쓰기도 가능!.\n"
     ]
    }
   ],
   "source": [
    "print('엔터를 입략해봐요 \\n다음줄 입니다. \\t들여쓰기도 가능!.')"
   ]
  },
  {
   "cell_type": "code",
   "execution_count": 33,
   "id": "f84faf7e-db8f-48a4-9e0f-57382357f8be",
   "metadata": {},
   "outputs": [
    {
     "ename": "SyntaxError",
     "evalue": "invalid syntax. Perhaps you forgot a comma? (308015771.py, line 1)",
     "output_type": "error",
     "traceback": [
      "\u001b[1;36m  Cell \u001b[1;32mIn[33], line 1\u001b[1;36m\u001b[0m\n\u001b[1;33m    print('하나','둘','셋' sep=\\t)\u001b[0m\n\u001b[1;37m                   ^\u001b[0m\n\u001b[1;31mSyntaxError\u001b[0m\u001b[1;31m:\u001b[0m invalid syntax. Perhaps you forgot a comma?\n"
     ]
    }
   ],
   "source": [
    "print('하나','둘','셋' sep=\\t)"
   ]
  },
  {
   "cell_type": "code",
   "execution_count": 30,
   "id": "18e48c17-9583-432c-ac82-28b8fb0be2d5",
   "metadata": {},
   "outputs": [],
   "source": [
    "age=20"
   ]
  },
  {
   "cell_type": "code",
   "execution_count": 32,
   "id": "c25c0078-5b66-4021-8144-9c2004a27957",
   "metadata": {},
   "outputs": [
    {
     "name": "stdout",
     "output_type": "stream",
     "text": [
      " 박지우는 20살 입니다.\n"
     ]
    }
   ],
   "source": [
    "print(f' 박지우는 {age}살 입니다.')"
   ]
  },
  {
   "cell_type": "code",
   "execution_count": null,
   "id": "63f535ad-51f0-4303-9154-ca40dc09225e",
   "metadata": {},
   "outputs": [],
   "source": []
  },
  {
   "cell_type": "code",
   "execution_count": null,
   "id": "9a6aa9d1-fa30-4fe7-9095-f056739fd3d2",
   "metadata": {},
   "outputs": [],
   "source": []
  },
  {
   "cell_type": "code",
   "execution_count": null,
   "id": "0971abd4-6a13-4b6a-a4ab-539e29083eb6",
   "metadata": {},
   "outputs": [],
   "source": []
  },
  {
   "cell_type": "code",
   "execution_count": null,
   "id": "ae02559c-8bfc-480e-a1e6-9e0fab332ecb",
   "metadata": {},
   "outputs": [],
   "source": []
  },
  {
   "cell_type": "code",
   "execution_count": null,
   "id": "820afb7d-5a06-4284-aa9c-4cf1e5143822",
   "metadata": {},
   "outputs": [],
   "source": []
  },
  {
   "cell_type": "code",
   "execution_count": null,
   "id": "7d0b7f33-8797-4337-8ac4-51bea4811663",
   "metadata": {},
   "outputs": [],
   "source": []
  },
  {
   "cell_type": "code",
   "execution_count": null,
   "id": "6d5d238e-16ac-4c71-80f3-30f7f902f3c4",
   "metadata": {},
   "outputs": [],
   "source": []
  },
  {
   "cell_type": "code",
   "execution_count": null,
   "id": "bd94ecee-4c1a-4f91-9d1f-ba1155573e9a",
   "metadata": {},
   "outputs": [],
   "source": []
  },
  {
   "cell_type": "code",
   "execution_count": null,
   "id": "5713638e-b65a-43eb-8652-04fa98738abe",
   "metadata": {},
   "outputs": [],
   "source": []
  },
  {
   "cell_type": "code",
   "execution_count": null,
   "id": "193611da-2bfe-43ee-8cf2-4e2526c0d039",
   "metadata": {},
   "outputs": [],
   "source": []
  },
  {
   "cell_type": "code",
   "execution_count": null,
   "id": "fa649815-56c0-4939-a433-d4e86db29c80",
   "metadata": {},
   "outputs": [],
   "source": []
  },
  {
   "cell_type": "code",
   "execution_count": null,
   "id": "ecba0253-4916-4acd-be89-0e4c76b4006f",
   "metadata": {},
   "outputs": [],
   "source": []
  }
 ],
 "metadata": {
  "kernelspec": {
   "display_name": "Python 3 (ipykernel)",
   "language": "python",
   "name": "python3"
  },
  "language_info": {
   "codemirror_mode": {
    "name": "ipython",
    "version": 3
   },
   "file_extension": ".py",
   "mimetype": "text/x-python",
   "name": "python",
   "nbconvert_exporter": "python",
   "pygments_lexer": "ipython3",
   "version": "3.11.4"
  }
 },
 "nbformat": 4,
 "nbformat_minor": 5
}
